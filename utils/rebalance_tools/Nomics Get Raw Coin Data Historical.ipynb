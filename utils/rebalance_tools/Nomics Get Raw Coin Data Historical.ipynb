{
 "cells": [
  {
   "cell_type": "code",
   "execution_count": 6,
   "metadata": {
    "collapsed": true
   },
   "outputs": [],
   "source": [
    "import json\n",
    "import requests\n",
    "import datetime\n",
    "import pandas as pd\n",
    "import urllib.request\n",
    "import codecs"
   ]
  },
  {
   "cell_type": "code",
   "execution_count": 7,
   "metadata": {
    "collapsed": true
   },
   "outputs": [],
   "source": [
    "#only want tickers in previous month 10 index for blog post\n",
    "start_date = '2017-03-01'\n",
    "end_date = '2019-02-01'\n",
    "coins = ['BTC' , 'ETH' , 'XRP' , 'XLM' , 'LTC' , 'BCH' , 'DASH' , 'EOS' , 'ADA' , 'ZEC']"
   ]
  },
  {
   "cell_type": "code",
   "execution_count": 8,
   "metadata": {
    "collapsed": true
   },
   "outputs": [],
   "source": [
    "def daily_price_historical(symbol, start, end):\n",
    "    url = 'https://api.nomics.com/v1/candles?key=8ab88c64570680aeb728a3109e69dd96&exchange_exclude=gdax&interval=1d&currency={}&start={}&end={}'\\\n",
    "    .format(symbol.upper(), start, end)\n",
    "    response = (urllib.request.urlopen(url).read())\n",
    "    response = response.decode('utf-8')\n",
    "    d = json.loads(response)\n",
    "    df = pd.DataFrame(d)\n",
    "    df['Price'] = pd.to_numeric(df['open'])\n",
    "    df = df.set_index(pd.DatetimeIndex(df['timestamp']))\n",
    "    return df"
   ]
  },
  {
   "cell_type": "code",
   "execution_count": 9,
   "metadata": {},
   "outputs": [
    {
     "data": {
      "text/html": [
       "<div>\n",
       "<style>\n",
       "    .dataframe thead tr:only-child th {\n",
       "        text-align: right;\n",
       "    }\n",
       "\n",
       "    .dataframe thead th {\n",
       "        text-align: left;\n",
       "    }\n",
       "\n",
       "    .dataframe tbody tr th {\n",
       "        vertical-align: top;\n",
       "    }\n",
       "</style>\n",
       "<table border=\"1\" class=\"dataframe\">\n",
       "  <thead>\n",
       "    <tr style=\"text-align: right;\">\n",
       "      <th></th>\n",
       "      <th>BTC</th>\n",
       "      <th>ETH</th>\n",
       "      <th>XRP</th>\n",
       "      <th>XLM</th>\n",
       "      <th>LTC</th>\n",
       "      <th>BCH</th>\n",
       "      <th>DASH</th>\n",
       "      <th>EOS</th>\n",
       "      <th>ADA</th>\n",
       "      <th>ZEC</th>\n",
       "    </tr>\n",
       "    <tr>\n",
       "      <th>timestamp</th>\n",
       "      <th></th>\n",
       "      <th></th>\n",
       "      <th></th>\n",
       "      <th></th>\n",
       "      <th></th>\n",
       "      <th></th>\n",
       "      <th></th>\n",
       "      <th></th>\n",
       "      <th></th>\n",
       "      <th></th>\n",
       "    </tr>\n",
       "  </thead>\n",
       "  <tbody>\n",
       "    <tr>\n",
       "      <th>2019-01-27</th>\n",
       "      <td>3555.92167</td>\n",
       "      <td>116.06803</td>\n",
       "      <td>0.31319</td>\n",
       "      <td>0.09804</td>\n",
       "      <td>32.92644</td>\n",
       "      <td>125.72101</td>\n",
       "      <td>72.60418</td>\n",
       "      <td>2.42304</td>\n",
       "      <td>0.04229</td>\n",
       "      <td>51.65421</td>\n",
       "    </tr>\n",
       "    <tr>\n",
       "      <th>2019-01-28</th>\n",
       "      <td>3508.34831</td>\n",
       "      <td>111.40373</td>\n",
       "      <td>0.30059</td>\n",
       "      <td>0.09189</td>\n",
       "      <td>31.62287</td>\n",
       "      <td>119.82213</td>\n",
       "      <td>68.46695</td>\n",
       "      <td>2.33675</td>\n",
       "      <td>0.03970</td>\n",
       "      <td>49.72826</td>\n",
       "    </tr>\n",
       "    <tr>\n",
       "      <th>2019-01-29</th>\n",
       "      <td>3446.43149</td>\n",
       "      <td>105.74638</td>\n",
       "      <td>0.29216</td>\n",
       "      <td>0.08551</td>\n",
       "      <td>30.89693</td>\n",
       "      <td>111.17478</td>\n",
       "      <td>66.69011</td>\n",
       "      <td>2.24359</td>\n",
       "      <td>0.03844</td>\n",
       "      <td>48.99686</td>\n",
       "    </tr>\n",
       "    <tr>\n",
       "      <th>2019-01-30</th>\n",
       "      <td>3461.64812</td>\n",
       "      <td>105.77122</td>\n",
       "      <td>0.29158</td>\n",
       "      <td>0.08359</td>\n",
       "      <td>31.33003</td>\n",
       "      <td>110.58247</td>\n",
       "      <td>68.37925</td>\n",
       "      <td>2.30643</td>\n",
       "      <td>0.03872</td>\n",
       "      <td>49.33288</td>\n",
       "    </tr>\n",
       "    <tr>\n",
       "      <th>2019-01-31</th>\n",
       "      <td>3464.78429</td>\n",
       "      <td>109.14609</td>\n",
       "      <td>0.32180</td>\n",
       "      <td>0.08500</td>\n",
       "      <td>31.71759</td>\n",
       "      <td>116.98222</td>\n",
       "      <td>68.14523</td>\n",
       "      <td>2.35261</td>\n",
       "      <td>0.03949</td>\n",
       "      <td>49.42100</td>\n",
       "    </tr>\n",
       "  </tbody>\n",
       "</table>\n",
       "</div>"
      ],
      "text/plain": [
       "                   BTC        ETH      XRP      XLM       LTC        BCH  \\\n",
       "timestamp                                                                  \n",
       "2019-01-27  3555.92167  116.06803  0.31319  0.09804  32.92644  125.72101   \n",
       "2019-01-28  3508.34831  111.40373  0.30059  0.09189  31.62287  119.82213   \n",
       "2019-01-29  3446.43149  105.74638  0.29216  0.08551  30.89693  111.17478   \n",
       "2019-01-30  3461.64812  105.77122  0.29158  0.08359  31.33003  110.58247   \n",
       "2019-01-31  3464.78429  109.14609  0.32180  0.08500  31.71759  116.98222   \n",
       "\n",
       "                DASH      EOS      ADA       ZEC  \n",
       "timestamp                                         \n",
       "2019-01-27  72.60418  2.42304  0.04229  51.65421  \n",
       "2019-01-28  68.46695  2.33675  0.03970  49.72826  \n",
       "2019-01-29  66.69011  2.24359  0.03844  48.99686  \n",
       "2019-01-30  68.37925  2.30643  0.03872  49.33288  \n",
       "2019-01-31  68.14523  2.35261  0.03949  49.42100  "
      ]
     },
     "execution_count": 9,
     "metadata": {},
     "output_type": "execute_result"
    }
   ],
   "source": [
    "#create dataframe\n",
    "all_data = pd.DataFrame()\n",
    "for t in coins:\n",
    "    df = daily_price_historical(t,start_date,end_date)\n",
    "    a = df['Price']\n",
    "    all_data[t] = a\n",
    "all_data.tail()"
   ]
  },
  {
   "cell_type": "code",
   "execution_count": 10,
   "metadata": {
    "collapsed": true
   },
   "outputs": [],
   "source": [
    "#write data to excel\n",
    "writer = pd.ExcelWriter('C:/Users\\stoin\\Desktop\\Mike\\Jupyter\\Data\\coins_history_bletchley.xlsx')\n",
    "all_data.to_excel(writer,'Data')\n",
    "writer.save()"
   ]
  }
 ],
 "metadata": {
  "kernelspec": {
   "display_name": "Python 3",
   "language": "python",
   "name": "python3"
  },
  "language_info": {
   "codemirror_mode": {
    "name": "ipython",
    "version": 3
   },
   "file_extension": ".py",
   "mimetype": "text/x-python",
   "name": "python",
   "nbconvert_exporter": "python",
   "pygments_lexer": "ipython3",
   "version": "3.5.3"
  }
 },
 "nbformat": 4,
 "nbformat_minor": 2
}
