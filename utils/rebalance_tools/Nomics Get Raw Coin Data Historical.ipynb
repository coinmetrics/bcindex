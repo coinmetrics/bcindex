{
 "cells": [
  {
   "cell_type": "code",
   "execution_count": 1,
   "metadata": {
    "collapsed": true
   },
   "outputs": [],
   "source": [
    "import json\n",
    "import requests\n",
    "import datetime\n",
    "import pandas as pd\n",
    "import urllib.request\n",
    "import codecs"
   ]
  },
  {
   "cell_type": "code",
   "execution_count": 2,
   "metadata": {
    "collapsed": true
   },
   "outputs": [],
   "source": [
    "#only want tickers in previous month 10 index for blog post\n",
    "start_date = '2017-03-01'\n",
    "end_date = '2019-03-01'\n",
    "coins = ['BTC' , 'ETH' , 'XRP' , 'XLM' , 'LTC' , 'BCH' , 'TRX' , 'EOS' , 'ADA' , 'BSV']"
   ]
  },
  {
   "cell_type": "code",
   "execution_count": 9,
   "metadata": {
    "collapsed": true
   },
   "outputs": [],
   "source": [
    "def daily_price_historical(symbol, start, end):\n",
    "    #url = 'https://api.nomics.com/v1/candles?key=8ab88c64570680aeb728a3109e69dd96&exchange_exclude=gdax&interval=1d&currency={}&start={}&end={}'\\\n",
    "    url = 'https://api.nomics.com/v1/candles?key=8ab88c64570680aeb728a3109e69dd96&interval=1d&currency={}&start={}&end={}'\\\n",
    "    .format(symbol.upper(), start, end)\n",
    "    response = (urllib.request.urlopen(url).read())\n",
    "    response = response.decode('utf-8')\n",
    "    d = json.loads(response)\n",
    "    df = pd.DataFrame(d)\n",
    "    df['Price'] = pd.to_numeric(df['open'])\n",
    "    df = df.set_index(pd.DatetimeIndex(df['timestamp']))\n",
    "    return df"
   ]
  },
  {
   "cell_type": "code",
   "execution_count": 10,
   "metadata": {},
   "outputs": [
    {
     "data": {
      "text/html": [
       "<div>\n",
       "<style>\n",
       "    .dataframe thead tr:only-child th {\n",
       "        text-align: right;\n",
       "    }\n",
       "\n",
       "    .dataframe thead th {\n",
       "        text-align: left;\n",
       "    }\n",
       "\n",
       "    .dataframe tbody tr th {\n",
       "        vertical-align: top;\n",
       "    }\n",
       "</style>\n",
       "<table border=\"1\" class=\"dataframe\">\n",
       "  <thead>\n",
       "    <tr style=\"text-align: right;\">\n",
       "      <th></th>\n",
       "      <th>BTC</th>\n",
       "      <th>ETH</th>\n",
       "      <th>XRP</th>\n",
       "      <th>XLM</th>\n",
       "      <th>LTC</th>\n",
       "      <th>BCH</th>\n",
       "      <th>DASH</th>\n",
       "      <th>EOS</th>\n",
       "      <th>ADA</th>\n",
       "      <th>BSV</th>\n",
       "    </tr>\n",
       "    <tr>\n",
       "      <th>timestamp</th>\n",
       "      <th></th>\n",
       "      <th></th>\n",
       "      <th></th>\n",
       "      <th></th>\n",
       "      <th></th>\n",
       "      <th></th>\n",
       "      <th></th>\n",
       "      <th></th>\n",
       "      <th></th>\n",
       "      <th></th>\n",
       "    </tr>\n",
       "  </thead>\n",
       "  <tbody>\n",
       "    <tr>\n",
       "      <th>2019-02-05</th>\n",
       "      <td>3437.52363</td>\n",
       "      <td>107.19853</td>\n",
       "      <td>0.29829</td>\n",
       "      <td>0.07844</td>\n",
       "      <td>34.02215</td>\n",
       "      <td>118.35254</td>\n",
       "      <td>66.66098</td>\n",
       "      <td>2.40226</td>\n",
       "      <td>0.03790</td>\n",
       "      <td>62.81835</td>\n",
       "    </tr>\n",
       "    <tr>\n",
       "      <th>2019-02-06</th>\n",
       "      <td>3447.60778</td>\n",
       "      <td>107.05859</td>\n",
       "      <td>0.29513</td>\n",
       "      <td>0.07562</td>\n",
       "      <td>33.83074</td>\n",
       "      <td>115.86096</td>\n",
       "      <td>67.02676</td>\n",
       "      <td>2.38029</td>\n",
       "      <td>0.03734</td>\n",
       "      <td>60.11496</td>\n",
       "    </tr>\n",
       "    <tr>\n",
       "      <th>2019-02-07</th>\n",
       "      <td>3392.36913</td>\n",
       "      <td>104.70474</td>\n",
       "      <td>0.28776</td>\n",
       "      <td>0.07359</td>\n",
       "      <td>32.59370</td>\n",
       "      <td>113.94787</td>\n",
       "      <td>65.04017</td>\n",
       "      <td>2.35655</td>\n",
       "      <td>0.03648</td>\n",
       "      <td>62.24351</td>\n",
       "    </tr>\n",
       "    <tr>\n",
       "      <th>2019-02-08</th>\n",
       "      <td>3478.69505</td>\n",
       "      <td>106.97087</td>\n",
       "      <td>0.30741</td>\n",
       "      <td>0.07980</td>\n",
       "      <td>34.81844</td>\n",
       "      <td>119.00420</td>\n",
       "      <td>72.24877</td>\n",
       "      <td>2.46127</td>\n",
       "      <td>0.03944</td>\n",
       "      <td>66.41542</td>\n",
       "    </tr>\n",
       "    <tr>\n",
       "      <th>2019-02-09</th>\n",
       "      <td>3651.57652</td>\n",
       "      <td>119.29631</td>\n",
       "      <td>0.31061</td>\n",
       "      <td>0.08095</td>\n",
       "      <td>42.92389</td>\n",
       "      <td>128.52496</td>\n",
       "      <td>73.60317</td>\n",
       "      <td>2.74112</td>\n",
       "      <td>0.04053</td>\n",
       "      <td>67.30048</td>\n",
       "    </tr>\n",
       "  </tbody>\n",
       "</table>\n",
       "</div>"
      ],
      "text/plain": [
       "                   BTC        ETH      XRP      XLM       LTC        BCH  \\\n",
       "timestamp                                                                  \n",
       "2019-02-05  3437.52363  107.19853  0.29829  0.07844  34.02215  118.35254   \n",
       "2019-02-06  3447.60778  107.05859  0.29513  0.07562  33.83074  115.86096   \n",
       "2019-02-07  3392.36913  104.70474  0.28776  0.07359  32.59370  113.94787   \n",
       "2019-02-08  3478.69505  106.97087  0.30741  0.07980  34.81844  119.00420   \n",
       "2019-02-09  3651.57652  119.29631  0.31061  0.08095  42.92389  128.52496   \n",
       "\n",
       "                DASH      EOS      ADA       BSV  \n",
       "timestamp                                         \n",
       "2019-02-05  66.66098  2.40226  0.03790  62.81835  \n",
       "2019-02-06  67.02676  2.38029  0.03734  60.11496  \n",
       "2019-02-07  65.04017  2.35655  0.03648  62.24351  \n",
       "2019-02-08  72.24877  2.46127  0.03944  66.41542  \n",
       "2019-02-09  73.60317  2.74112  0.04053  67.30048  "
      ]
     },
     "execution_count": 10,
     "metadata": {},
     "output_type": "execute_result"
    }
   ],
   "source": [
    "#create dataframe\n",
    "all_data = pd.DataFrame()\n",
    "for t in coins:\n",
    "    df = daily_price_historical(t,start_date,end_date)\n",
    "    a = df['Price']\n",
    "    all_data[t] = a\n",
    "all_data.tail()"
   ]
  },
  {
   "cell_type": "code",
   "execution_count": 8,
   "metadata": {
    "collapsed": true
   },
   "outputs": [],
   "source": [
    "#write data to excel\n",
    "writer = pd.ExcelWriter('C:/Users\\stoin\\Desktop\\Mike\\Jupyter\\Data\\coins_history_bletchley.xlsx')\n",
    "all_data.to_excel(writer,'Data')\n",
    "writer.save()"
   ]
  },
  {
   "cell_type": "code",
   "execution_count": 13,
   "metadata": {},
   "outputs": [
    {
     "data": {
      "text/plain": [
       "BTC     7975.96882\n",
       "ETH      800.57080\n",
       "XRP        0.76447\n",
       "XLM        0.31750\n",
       "LTC      141.71036\n",
       "BCH     1091.77951\n",
       "DASH     484.80395\n",
       "EOS        8.09662\n",
       "ADA        0.32195\n",
       "BSV            NaN\n",
       "Name: 2018-02-05 00:00:00, dtype: float64"
      ]
     },
     "execution_count": 13,
     "metadata": {},
     "output_type": "execute_result"
    }
   ],
   "source": [
    "all_data.loc['2018-02-05']"
   ]
  },
  {
   "cell_type": "code",
   "execution_count": null,
   "metadata": {
    "collapsed": true
   },
   "outputs": [],
   "source": []
  }
 ],
 "metadata": {
  "kernelspec": {
   "display_name": "Python 3",
   "language": "python",
   "name": "python3"
  },
  "language_info": {
   "codemirror_mode": {
    "name": "ipython",
    "version": 3
   },
   "file_extension": ".py",
   "mimetype": "text/x-python",
   "name": "python",
   "nbconvert_exporter": "python",
   "pygments_lexer": "ipython3",
   "version": "3.5.3"
  }
 },
 "nbformat": 4,
 "nbformat_minor": 2
}
