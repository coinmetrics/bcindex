{
 "cells": [
  {
   "cell_type": "code",
   "execution_count": 1,
   "metadata": {
    "collapsed": true
   },
   "outputs": [],
   "source": [
    "import json\n",
    "import requests\n",
    "import datetime\n",
    "import pandas as pd\n",
    "import urllib.request\n",
    "import codecs"
   ]
  },
  {
   "cell_type": "code",
   "execution_count": 2,
   "metadata": {
    "collapsed": true
   },
   "outputs": [],
   "source": [
    "#only want tickers in previous month 10 index for blog post\n",
    "start_date = '2017-03-01'\n",
    "end_date = '2019-03-01'\n",
    "coins = ['BTC' , 'ETH' , 'XRP' , 'XLM' , 'LTC' , 'BCH' , 'TRX' , 'EOS' , 'ADA' , 'BSV']"
   ]
  },
  {
   "cell_type": "code",
   "execution_count": 3,
   "metadata": {
    "collapsed": true
   },
   "outputs": [],
   "source": [
    "def daily_price_historical(symbol, start, end):\n",
    "    #url = 'https://api.nomics.com/v1/candles?key=8ab88c64570680aeb728a3109e69dd96&exchange_exclude=gdax&interval=1d&currency={}&start={}&end={}'\\\n",
    "    url = 'https://api.nomics.com/v1/candles?key=8ab88c64570680aeb728a3109e69dd96&interval=1d&currency={}&start={}&end={}'\\\n",
    "    .format(symbol.upper(), start, end)\n",
    "    response = (urllib.request.urlopen(url).read())\n",
    "    response = response.decode('utf-8')\n",
    "    d = json.loads(response)\n",
    "    df = pd.DataFrame(d)\n",
    "    df['Price'] = pd.to_numeric(df['open'])\n",
    "    df = df.set_index(pd.DatetimeIndex(df['timestamp']))\n",
    "    return df"
   ]
  },
  {
   "cell_type": "code",
   "execution_count": 4,
   "metadata": {},
   "outputs": [
    {
     "data": {
      "text/html": [
       "<div>\n",
       "<style>\n",
       "    .dataframe thead tr:only-child th {\n",
       "        text-align: right;\n",
       "    }\n",
       "\n",
       "    .dataframe thead th {\n",
       "        text-align: left;\n",
       "    }\n",
       "\n",
       "    .dataframe tbody tr th {\n",
       "        vertical-align: top;\n",
       "    }\n",
       "</style>\n",
       "<table border=\"1\" class=\"dataframe\">\n",
       "  <thead>\n",
       "    <tr style=\"text-align: right;\">\n",
       "      <th></th>\n",
       "      <th>BTC</th>\n",
       "      <th>ETH</th>\n",
       "      <th>XRP</th>\n",
       "      <th>XLM</th>\n",
       "      <th>LTC</th>\n",
       "      <th>BCH</th>\n",
       "      <th>TRX</th>\n",
       "      <th>EOS</th>\n",
       "      <th>ADA</th>\n",
       "      <th>BSV</th>\n",
       "    </tr>\n",
       "    <tr>\n",
       "      <th>timestamp</th>\n",
       "      <th></th>\n",
       "      <th></th>\n",
       "      <th></th>\n",
       "      <th></th>\n",
       "      <th></th>\n",
       "      <th></th>\n",
       "      <th></th>\n",
       "      <th></th>\n",
       "      <th></th>\n",
       "      <th></th>\n",
       "    </tr>\n",
       "  </thead>\n",
       "  <tbody>\n",
       "    <tr>\n",
       "      <th>2019-02-22</th>\n",
       "      <td>3963.49260</td>\n",
       "      <td>146.50191</td>\n",
       "      <td>0.32216</td>\n",
       "      <td>0.08897</td>\n",
       "      <td>49.20489</td>\n",
       "      <td>142.27559</td>\n",
       "      <td>0.02493</td>\n",
       "      <td>3.83018</td>\n",
       "      <td>0.04525</td>\n",
       "      <td>65.39110</td>\n",
       "    </tr>\n",
       "    <tr>\n",
       "      <th>2019-02-23</th>\n",
       "      <td>4085.19011</td>\n",
       "      <td>150.54266</td>\n",
       "      <td>0.33091</td>\n",
       "      <td>0.09342</td>\n",
       "      <td>50.71475</td>\n",
       "      <td>145.64651</td>\n",
       "      <td>0.02601</td>\n",
       "      <td>3.96232</td>\n",
       "      <td>0.04727</td>\n",
       "      <td>67.46720</td>\n",
       "    </tr>\n",
       "    <tr>\n",
       "      <th>2019-02-24</th>\n",
       "      <td>3899.20156</td>\n",
       "      <td>153.81471</td>\n",
       "      <td>0.31228</td>\n",
       "      <td>0.08720</td>\n",
       "      <td>48.82181</td>\n",
       "      <td>147.34796</td>\n",
       "      <td>0.02328</td>\n",
       "      <td>4.07252</td>\n",
       "      <td>0.04493</td>\n",
       "      <td>64.40971</td>\n",
       "    </tr>\n",
       "    <tr>\n",
       "      <th>2019-02-25</th>\n",
       "      <td>3823.32118</td>\n",
       "      <td>134.00794</td>\n",
       "      <td>0.30219</td>\n",
       "      <td>0.08369</td>\n",
       "      <td>44.44539</td>\n",
       "      <td>128.50347</td>\n",
       "      <td>0.02388</td>\n",
       "      <td>3.58040</td>\n",
       "      <td>0.04246</td>\n",
       "      <td>60.99156</td>\n",
       "    </tr>\n",
       "    <tr>\n",
       "      <th>2019-02-26</th>\n",
       "      <td>3838.84195</td>\n",
       "      <td>138.14637</td>\n",
       "      <td>0.32759</td>\n",
       "      <td>0.08603</td>\n",
       "      <td>45.44363</td>\n",
       "      <td>133.71887</td>\n",
       "      <td>0.02410</td>\n",
       "      <td>3.55101</td>\n",
       "      <td>0.04352</td>\n",
       "      <td>67.66206</td>\n",
       "    </tr>\n",
       "  </tbody>\n",
       "</table>\n",
       "</div>"
      ],
      "text/plain": [
       "                   BTC        ETH      XRP      XLM       LTC        BCH  \\\n",
       "timestamp                                                                  \n",
       "2019-02-22  3963.49260  146.50191  0.32216  0.08897  49.20489  142.27559   \n",
       "2019-02-23  4085.19011  150.54266  0.33091  0.09342  50.71475  145.64651   \n",
       "2019-02-24  3899.20156  153.81471  0.31228  0.08720  48.82181  147.34796   \n",
       "2019-02-25  3823.32118  134.00794  0.30219  0.08369  44.44539  128.50347   \n",
       "2019-02-26  3838.84195  138.14637  0.32759  0.08603  45.44363  133.71887   \n",
       "\n",
       "                TRX      EOS      ADA       BSV  \n",
       "timestamp                                        \n",
       "2019-02-22  0.02493  3.83018  0.04525  65.39110  \n",
       "2019-02-23  0.02601  3.96232  0.04727  67.46720  \n",
       "2019-02-24  0.02328  4.07252  0.04493  64.40971  \n",
       "2019-02-25  0.02388  3.58040  0.04246  60.99156  \n",
       "2019-02-26  0.02410  3.55101  0.04352  67.66206  "
      ]
     },
     "execution_count": 4,
     "metadata": {},
     "output_type": "execute_result"
    }
   ],
   "source": [
    "#create dataframe\n",
    "all_data = pd.DataFrame()\n",
    "for t in coins:\n",
    "    df = daily_price_historical(t,start_date,end_date)\n",
    "    a = df['Price']\n",
    "    all_data[t] = a\n",
    "all_data.tail()"
   ]
  },
  {
   "cell_type": "code",
   "execution_count": 5,
   "metadata": {
    "collapsed": true
   },
   "outputs": [],
   "source": [
    "#write data to excel\n",
    "writer = pd.ExcelWriter('C:/Users\\stoin\\Desktop\\Mike\\Jupyter\\Data\\coins_history_bletchley.xlsx')\n",
    "all_data.to_excel(writer,'Data')\n",
    "writer.save()"
   ]
  },
  {
   "cell_type": "code",
   "execution_count": 6,
   "metadata": {},
   "outputs": [
    {
     "data": {
      "text/plain": [
       "BTC    7976.37551\n",
       "ETH     800.57524\n",
       "XRP       0.76447\n",
       "XLM       0.31750\n",
       "LTC     141.71052\n",
       "BCH    1091.79598\n",
       "TRX       0.03198\n",
       "EOS       8.09663\n",
       "ADA       0.32195\n",
       "BSV           NaN\n",
       "Name: 2018-02-05 00:00:00, dtype: float64"
      ]
     },
     "execution_count": 6,
     "metadata": {},
     "output_type": "execute_result"
    }
   ],
   "source": [
    "all_data.loc['2018-02-05']"
   ]
  },
  {
   "cell_type": "code",
   "execution_count": null,
   "metadata": {
    "collapsed": true
   },
   "outputs": [],
   "source": []
  }
 ],
 "metadata": {
  "kernelspec": {
   "display_name": "Python 3",
   "language": "python",
   "name": "python3"
  },
  "language_info": {
   "codemirror_mode": {
    "name": "ipython",
    "version": 3
   },
   "file_extension": ".py",
   "mimetype": "text/x-python",
   "name": "python",
   "nbconvert_exporter": "python",
   "pygments_lexer": "ipython3",
   "version": "3.5.3"
  }
 },
 "nbformat": 4,
 "nbformat_minor": 2
}
