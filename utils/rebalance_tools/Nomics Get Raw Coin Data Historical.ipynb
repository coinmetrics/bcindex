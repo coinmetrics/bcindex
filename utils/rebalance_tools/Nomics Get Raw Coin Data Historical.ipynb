{
 "cells": [
  {
   "cell_type": "code",
   "execution_count": 1,
   "metadata": {
    "collapsed": true
   },
   "outputs": [],
   "source": [
    "import json\n",
    "import requests\n",
    "import datetime\n",
    "import pandas as pd\n",
    "import urllib.request\n",
    "import codecs"
   ]
  },
  {
   "cell_type": "code",
   "execution_count": 2,
   "metadata": {
    "collapsed": true
   },
   "outputs": [],
   "source": [
    "#only want tickers in previous month 10 index for blog post\n",
    "start_date = '2017-03-01'\n",
    "end_date = '2019-03-01'\n",
    "coins = ['BTC' , 'ETH' , 'XRP' , 'XLM' , 'LTC' , 'BCH' , 'TRX' , 'EOS' , 'ADA' , 'BSV']"
   ]
  },
  {
   "cell_type": "code",
   "execution_count": 6,
   "metadata": {
    "collapsed": true
   },
   "outputs": [],
   "source": [
    "def daily_price_historical(symbol, start, end):\n",
    "    #url = 'https://api.nomics.com/v1/candles?key=8ab88c64570680aeb728a3109e69dd96&exchange_exclude=gdax&interval=1d&currency={}&start={}&end={}'\\\n",
    "    url = 'https://api.nomics.com/v1/candles?key=8ab88c64570680aeb728a3109e69dd96&interval=1d&currency={}&start={}&end={}'\\\n",
    "    .format(symbol.upper(), start, end)\n",
    "    response = (urllib.request.urlopen(url).read())\n",
    "    response = response.decode('utf-8')\n",
    "    d = json.loads(response)\n",
    "    df = pd.DataFrame(d)\n",
    "    df['Price'] = pd.to_numeric(df['open'])\n",
    "    df = df.set_index(pd.DatetimeIndex(df['timestamp']))\n",
    "    return df"
   ]
  },
  {
   "cell_type": "code",
   "execution_count": 7,
   "metadata": {},
   "outputs": [
    {
     "data": {
      "text/html": [
       "<div>\n",
       "<style>\n",
       "    .dataframe thead tr:only-child th {\n",
       "        text-align: right;\n",
       "    }\n",
       "\n",
       "    .dataframe thead th {\n",
       "        text-align: left;\n",
       "    }\n",
       "\n",
       "    .dataframe tbody tr th {\n",
       "        vertical-align: top;\n",
       "    }\n",
       "</style>\n",
       "<table border=\"1\" class=\"dataframe\">\n",
       "  <thead>\n",
       "    <tr style=\"text-align: right;\">\n",
       "      <th></th>\n",
       "      <th>BTC</th>\n",
       "      <th>ETH</th>\n",
       "      <th>XRP</th>\n",
       "      <th>XLM</th>\n",
       "      <th>LTC</th>\n",
       "      <th>BCH</th>\n",
       "      <th>DASH</th>\n",
       "      <th>EOS</th>\n",
       "      <th>ADA</th>\n",
       "      <th>BSV</th>\n",
       "    </tr>\n",
       "    <tr>\n",
       "      <th>timestamp</th>\n",
       "      <th></th>\n",
       "      <th></th>\n",
       "      <th></th>\n",
       "      <th></th>\n",
       "      <th></th>\n",
       "      <th></th>\n",
       "      <th></th>\n",
       "      <th></th>\n",
       "      <th></th>\n",
       "      <th></th>\n",
       "    </tr>\n",
       "  </thead>\n",
       "  <tbody>\n",
       "    <tr>\n",
       "      <th>2019-01-30</th>\n",
       "      <td>3454.72586</td>\n",
       "      <td>105.71616</td>\n",
       "      <td>0.29118</td>\n",
       "      <td>0.08344</td>\n",
       "      <td>31.27867</td>\n",
       "      <td>110.47183</td>\n",
       "      <td>68.27687</td>\n",
       "      <td>2.30518</td>\n",
       "      <td>0.03866</td>\n",
       "      <td>63.95811</td>\n",
       "    </tr>\n",
       "    <tr>\n",
       "      <th>2019-01-31</th>\n",
       "      <td>3456.99882</td>\n",
       "      <td>108.96279</td>\n",
       "      <td>0.32066</td>\n",
       "      <td>0.08461</td>\n",
       "      <td>31.58229</td>\n",
       "      <td>116.65710</td>\n",
       "      <td>67.83478</td>\n",
       "      <td>2.34804</td>\n",
       "      <td>0.03931</td>\n",
       "      <td>65.76509</td>\n",
       "    </tr>\n",
       "    <tr>\n",
       "      <th>2019-02-01</th>\n",
       "      <td>3446.20229</td>\n",
       "      <td>107.58642</td>\n",
       "      <td>0.31249</td>\n",
       "      <td>0.08209</td>\n",
       "      <td>31.75482</td>\n",
       "      <td>114.34162</td>\n",
       "      <td>67.98393</td>\n",
       "      <td>2.34670</td>\n",
       "      <td>0.03871</td>\n",
       "      <td>64.08183</td>\n",
       "    </tr>\n",
       "    <tr>\n",
       "      <th>2019-02-02</th>\n",
       "      <td>3513.06802</td>\n",
       "      <td>108.29663</td>\n",
       "      <td>0.31090</td>\n",
       "      <td>0.08228</td>\n",
       "      <td>33.08561</td>\n",
       "      <td>116.58009</td>\n",
       "      <td>67.78472</td>\n",
       "      <td>2.38260</td>\n",
       "      <td>0.03937</td>\n",
       "      <td>64.83550</td>\n",
       "    </tr>\n",
       "    <tr>\n",
       "      <th>2019-02-03</th>\n",
       "      <td>3515.29342</td>\n",
       "      <td>110.96333</td>\n",
       "      <td>0.31046</td>\n",
       "      <td>0.08281</td>\n",
       "      <td>34.60724</td>\n",
       "      <td>120.88642</td>\n",
       "      <td>67.49179</td>\n",
       "      <td>2.46506</td>\n",
       "      <td>0.03924</td>\n",
       "      <td>65.35527</td>\n",
       "    </tr>\n",
       "  </tbody>\n",
       "</table>\n",
       "</div>"
      ],
      "text/plain": [
       "                   BTC        ETH      XRP      XLM       LTC        BCH  \\\n",
       "timestamp                                                                  \n",
       "2019-01-30  3454.72586  105.71616  0.29118  0.08344  31.27867  110.47183   \n",
       "2019-01-31  3456.99882  108.96279  0.32066  0.08461  31.58229  116.65710   \n",
       "2019-02-01  3446.20229  107.58642  0.31249  0.08209  31.75482  114.34162   \n",
       "2019-02-02  3513.06802  108.29663  0.31090  0.08228  33.08561  116.58009   \n",
       "2019-02-03  3515.29342  110.96333  0.31046  0.08281  34.60724  120.88642   \n",
       "\n",
       "                DASH      EOS      ADA       BSV  \n",
       "timestamp                                         \n",
       "2019-01-30  68.27687  2.30518  0.03866  63.95811  \n",
       "2019-01-31  67.83478  2.34804  0.03931  65.76509  \n",
       "2019-02-01  67.98393  2.34670  0.03871  64.08183  \n",
       "2019-02-02  67.78472  2.38260  0.03937  64.83550  \n",
       "2019-02-03  67.49179  2.46506  0.03924  65.35527  "
      ]
     },
     "execution_count": 7,
     "metadata": {},
     "output_type": "execute_result"
    }
   ],
   "source": [
    "#create dataframe\n",
    "all_data = pd.DataFrame()\n",
    "for t in coins:\n",
    "    df = daily_price_historical(t,start_date,end_date)\n",
    "    a = df['Price']\n",
    "    all_data[t] = a\n",
    "all_data.tail()"
   ]
  },
  {
   "cell_type": "code",
   "execution_count": 8,
   "metadata": {
    "collapsed": true
   },
   "outputs": [],
   "source": [
    "#write data to excel\n",
    "writer = pd.ExcelWriter('C:/Users\\stoin\\Desktop\\Mike\\Jupyter\\Data\\coins_history_bletchley.xlsx')\n",
    "all_data.to_excel(writer,'Data')\n",
    "writer.save()"
   ]
  },
  {
   "cell_type": "code",
   "execution_count": null,
   "metadata": {
    "collapsed": true
   },
   "outputs": [],
   "source": []
  }
 ],
 "metadata": {
  "kernelspec": {
   "display_name": "Python 3",
   "language": "python",
   "name": "python3"
  },
  "language_info": {
   "codemirror_mode": {
    "name": "ipython",
    "version": 3
   },
   "file_extension": ".py",
   "mimetype": "text/x-python",
   "name": "python",
   "nbconvert_exporter": "python",
   "pygments_lexer": "ipython3",
   "version": "3.5.3"
  }
 },
 "nbformat": 4,
 "nbformat_minor": 2
}
