{
 "cells": [
  {
   "cell_type": "code",
   "execution_count": 14,
   "metadata": {
    "collapsed": true
   },
   "outputs": [],
   "source": [
    "import json\n",
    "import requests\n",
    "import datetime\n",
    "import pandas as pd\n",
    "import urllib.request\n",
    "import codecs"
   ]
  },
  {
   "cell_type": "code",
   "execution_count": 15,
   "metadata": {
    "collapsed": true
   },
   "outputs": [],
   "source": [
    "#only want tickers in previous month 10 index for blog post\n",
    "start_date = '2017-03-01'\n",
    "end_date = '2019-03-01'\n",
    "coins = ['BTC' , 'ETH' , 'XRP' , 'XLM' , 'LTC' , 'BCH' , 'TRX' , 'EOS' , 'ADA' , 'BSV']"
   ]
  },
  {
   "cell_type": "code",
   "execution_count": 16,
   "metadata": {
    "collapsed": true
   },
   "outputs": [],
   "source": [
    "def daily_price_historical(symbol, start, end):\n",
    "    #url = 'https://api.nomics.com/v1/candles?key=8ab88c64570680aeb728a3109e69dd96&exchange_exclude=gdax&interval=1d&currency={}&start={}&end={}'\\\n",
    "    url = 'https://api.nomics.com/v1/candles?key=8ab88c64570680aeb728a3109e69dd96&interval=1d&currency={}&start={}&end={}'\\\n",
    "    .format(symbol.upper(), start, end)\n",
    "    response = (urllib.request.urlopen(url).read())\n",
    "    response = response.decode('utf-8')\n",
    "    d = json.loads(response)\n",
    "    df = pd.DataFrame(d)\n",
    "    df['Price'] = pd.to_numeric(df['open'])\n",
    "    df = df.set_index(pd.DatetimeIndex(df['timestamp']))\n",
    "    return df"
   ]
  },
  {
   "cell_type": "code",
   "execution_count": 17,
   "metadata": {},
   "outputs": [
    {
     "data": {
      "text/html": [
       "<div>\n",
       "<style>\n",
       "    .dataframe thead tr:only-child th {\n",
       "        text-align: right;\n",
       "    }\n",
       "\n",
       "    .dataframe thead th {\n",
       "        text-align: left;\n",
       "    }\n",
       "\n",
       "    .dataframe tbody tr th {\n",
       "        vertical-align: top;\n",
       "    }\n",
       "</style>\n",
       "<table border=\"1\" class=\"dataframe\">\n",
       "  <thead>\n",
       "    <tr style=\"text-align: right;\">\n",
       "      <th></th>\n",
       "      <th>BTC</th>\n",
       "      <th>ETH</th>\n",
       "      <th>XRP</th>\n",
       "      <th>XLM</th>\n",
       "      <th>LTC</th>\n",
       "      <th>BCH</th>\n",
       "      <th>TRX</th>\n",
       "      <th>EOS</th>\n",
       "      <th>ADA</th>\n",
       "      <th>BSV</th>\n",
       "    </tr>\n",
       "    <tr>\n",
       "      <th>timestamp</th>\n",
       "      <th></th>\n",
       "      <th></th>\n",
       "      <th></th>\n",
       "      <th></th>\n",
       "      <th></th>\n",
       "      <th></th>\n",
       "      <th></th>\n",
       "      <th></th>\n",
       "      <th></th>\n",
       "      <th></th>\n",
       "    </tr>\n",
       "  </thead>\n",
       "  <tbody>\n",
       "    <tr>\n",
       "      <th>2019-02-20</th>\n",
       "      <td>3962.55097</td>\n",
       "      <td>144.27161</td>\n",
       "      <td>0.32416</td>\n",
       "      <td>0.08984</td>\n",
       "      <td>47.59377</td>\n",
       "      <td>141.87283</td>\n",
       "      <td>0.02512</td>\n",
       "      <td>3.54912</td>\n",
       "      <td>0.04619</td>\n",
       "      <td>66.96606</td>\n",
       "    </tr>\n",
       "    <tr>\n",
       "      <th>2019-02-21</th>\n",
       "      <td>3939.72561</td>\n",
       "      <td>147.86162</td>\n",
       "      <td>0.32701</td>\n",
       "      <td>0.09040</td>\n",
       "      <td>51.03733</td>\n",
       "      <td>145.06620</td>\n",
       "      <td>0.02464</td>\n",
       "      <td>3.87124</td>\n",
       "      <td>0.04669</td>\n",
       "      <td>65.98570</td>\n",
       "    </tr>\n",
       "    <tr>\n",
       "      <th>2019-02-22</th>\n",
       "      <td>3963.49260</td>\n",
       "      <td>146.50191</td>\n",
       "      <td>0.32216</td>\n",
       "      <td>0.08897</td>\n",
       "      <td>49.20489</td>\n",
       "      <td>142.27559</td>\n",
       "      <td>0.02493</td>\n",
       "      <td>3.83018</td>\n",
       "      <td>0.04525</td>\n",
       "      <td>65.39110</td>\n",
       "    </tr>\n",
       "    <tr>\n",
       "      <th>2019-02-23</th>\n",
       "      <td>4084.69758</td>\n",
       "      <td>150.67593</td>\n",
       "      <td>0.33090</td>\n",
       "      <td>0.09342</td>\n",
       "      <td>50.71464</td>\n",
       "      <td>145.64644</td>\n",
       "      <td>0.02601</td>\n",
       "      <td>3.96210</td>\n",
       "      <td>0.04727</td>\n",
       "      <td>67.46719</td>\n",
       "    </tr>\n",
       "    <tr>\n",
       "      <th>2019-02-24</th>\n",
       "      <td>4018.06414</td>\n",
       "      <td>156.59142</td>\n",
       "      <td>0.31718</td>\n",
       "      <td>0.08817</td>\n",
       "      <td>49.82542</td>\n",
       "      <td>148.43224</td>\n",
       "      <td>0.02357</td>\n",
       "      <td>4.13120</td>\n",
       "      <td>0.04541</td>\n",
       "      <td>65.10723</td>\n",
       "    </tr>\n",
       "  </tbody>\n",
       "</table>\n",
       "</div>"
      ],
      "text/plain": [
       "                   BTC        ETH      XRP      XLM       LTC        BCH  \\\n",
       "timestamp                                                                  \n",
       "2019-02-20  3962.55097  144.27161  0.32416  0.08984  47.59377  141.87283   \n",
       "2019-02-21  3939.72561  147.86162  0.32701  0.09040  51.03733  145.06620   \n",
       "2019-02-22  3963.49260  146.50191  0.32216  0.08897  49.20489  142.27559   \n",
       "2019-02-23  4084.69758  150.67593  0.33090  0.09342  50.71464  145.64644   \n",
       "2019-02-24  4018.06414  156.59142  0.31718  0.08817  49.82542  148.43224   \n",
       "\n",
       "                TRX      EOS      ADA       BSV  \n",
       "timestamp                                        \n",
       "2019-02-20  0.02512  3.54912  0.04619  66.96606  \n",
       "2019-02-21  0.02464  3.87124  0.04669  65.98570  \n",
       "2019-02-22  0.02493  3.83018  0.04525  65.39110  \n",
       "2019-02-23  0.02601  3.96210  0.04727  67.46719  \n",
       "2019-02-24  0.02357  4.13120  0.04541  65.10723  "
      ]
     },
     "execution_count": 17,
     "metadata": {},
     "output_type": "execute_result"
    }
   ],
   "source": [
    "#create dataframe\n",
    "all_data = pd.DataFrame()\n",
    "for t in coins:\n",
    "    df = daily_price_historical(t,start_date,end_date)\n",
    "    a = df['Price']\n",
    "    all_data[t] = a\n",
    "all_data.tail()"
   ]
  },
  {
   "cell_type": "code",
   "execution_count": 18,
   "metadata": {
    "collapsed": true
   },
   "outputs": [],
   "source": [
    "#write data to excel\n",
    "writer = pd.ExcelWriter('C:/Users\\stoin\\Desktop\\Mike\\Jupyter\\Data\\coins_history_bletchley.xlsx')\n",
    "all_data.to_excel(writer,'Data')\n",
    "writer.save()"
   ]
  },
  {
   "cell_type": "code",
   "execution_count": 19,
   "metadata": {},
   "outputs": [
    {
     "data": {
      "text/plain": [
       "BTC    7976.37551\n",
       "ETH     800.57524\n",
       "XRP       0.76447\n",
       "XLM       0.31750\n",
       "LTC     141.71052\n",
       "BCH    1091.79598\n",
       "TRX       0.03198\n",
       "EOS       8.09663\n",
       "ADA       0.32195\n",
       "BSV           NaN\n",
       "Name: 2018-02-05 00:00:00, dtype: float64"
      ]
     },
     "execution_count": 19,
     "metadata": {},
     "output_type": "execute_result"
    }
   ],
   "source": [
    "all_data.loc['2018-02-05']"
   ]
  },
  {
   "cell_type": "code",
   "execution_count": null,
   "metadata": {
    "collapsed": true
   },
   "outputs": [],
   "source": []
  }
 ],
 "metadata": {
  "kernelspec": {
   "display_name": "Python 3",
   "language": "python",
   "name": "python3"
  },
  "language_info": {
   "codemirror_mode": {
    "name": "ipython",
    "version": 3
   },
   "file_extension": ".py",
   "mimetype": "text/x-python",
   "name": "python",
   "nbconvert_exporter": "python",
   "pygments_lexer": "ipython3",
   "version": "3.5.3"
  }
 },
 "nbformat": 4,
 "nbformat_minor": 2
}
