{
 "cells": [
  {
   "cell_type": "code",
   "execution_count": 1,
   "metadata": {
    "collapsed": true
   },
   "outputs": [],
   "source": [
    "import json\n",
    "import requests\n",
    "import datetime\n",
    "import pandas as pd\n",
    "import urllib.request\n",
    "import codecs"
   ]
  },
  {
   "cell_type": "code",
   "execution_count": 2,
   "metadata": {
    "collapsed": true
   },
   "outputs": [],
   "source": [
    "#only want tickers in previous month 10 index for blog post\n",
    "start_date = '2017-03-01'\n",
    "end_date = '2019-02-01'\n",
    "coins = ['BTC' , 'ETH' , 'XRP' , 'XLM' , 'LTC' , 'BCH' , 'DASH' , 'EOS' , 'ADA' , 'ZEC']"
   ]
  },
  {
   "cell_type": "code",
   "execution_count": 3,
   "metadata": {
    "collapsed": true
   },
   "outputs": [],
   "source": [
    "def daily_price_historical(symbol, start, end):\n",
    "    url = 'https://api.nomics.com/v1/candles?key=8ab88c64570680aeb728a3109e69dd96&interval=1d&currency={}&start={}&end={}'\\\n",
    "    .format(symbol.upper(), start, end)\n",
    "    response = (urllib.request.urlopen(url).read())\n",
    "    response = response.decode('utf-8')\n",
    "    d = json.loads(response)\n",
    "    df = pd.DataFrame(d)\n",
    "    df['Price'] = pd.to_numeric(df['open'])\n",
    "    df = df.set_index(pd.DatetimeIndex(df['timestamp']))\n",
    "    return df"
   ]
  },
  {
   "cell_type": "code",
   "execution_count": 4,
   "metadata": {},
   "outputs": [
    {
     "data": {
      "text/html": [
       "<div>\n",
       "<style>\n",
       "    .dataframe thead tr:only-child th {\n",
       "        text-align: right;\n",
       "    }\n",
       "\n",
       "    .dataframe thead th {\n",
       "        text-align: left;\n",
       "    }\n",
       "\n",
       "    .dataframe tbody tr th {\n",
       "        vertical-align: top;\n",
       "    }\n",
       "</style>\n",
       "<table border=\"1\" class=\"dataframe\">\n",
       "  <thead>\n",
       "    <tr style=\"text-align: right;\">\n",
       "      <th></th>\n",
       "      <th>BTC</th>\n",
       "      <th>ETH</th>\n",
       "      <th>XRP</th>\n",
       "      <th>XLM</th>\n",
       "      <th>LTC</th>\n",
       "      <th>BCH</th>\n",
       "      <th>DASH</th>\n",
       "      <th>EOS</th>\n",
       "      <th>ADA</th>\n",
       "      <th>ZEC</th>\n",
       "    </tr>\n",
       "    <tr>\n",
       "      <th>timestamp</th>\n",
       "      <th></th>\n",
       "      <th></th>\n",
       "      <th></th>\n",
       "      <th></th>\n",
       "      <th></th>\n",
       "      <th></th>\n",
       "      <th></th>\n",
       "      <th></th>\n",
       "      <th></th>\n",
       "      <th></th>\n",
       "    </tr>\n",
       "  </thead>\n",
       "  <tbody>\n",
       "    <tr>\n",
       "      <th>2019-01-17</th>\n",
       "      <td>3629.24834</td>\n",
       "      <td>123.67875</td>\n",
       "      <td>0.33214</td>\n",
       "      <td>0.10751</td>\n",
       "      <td>31.85025</td>\n",
       "      <td>128.95890</td>\n",
       "      <td>71.71435</td>\n",
       "      <td>2.45711</td>\n",
       "      <td>0.04509</td>\n",
       "      <td>53.42577</td>\n",
       "    </tr>\n",
       "    <tr>\n",
       "      <th>2019-01-18</th>\n",
       "      <td>3660.18539</td>\n",
       "      <td>123.47812</td>\n",
       "      <td>0.32742</td>\n",
       "      <td>0.10755</td>\n",
       "      <td>31.63537</td>\n",
       "      <td>129.78928</td>\n",
       "      <td>71.23590</td>\n",
       "      <td>2.51422</td>\n",
       "      <td>0.04484</td>\n",
       "      <td>53.68042</td>\n",
       "    </tr>\n",
       "    <tr>\n",
       "      <th>2019-01-19</th>\n",
       "      <td>3639.24781</td>\n",
       "      <td>121.88712</td>\n",
       "      <td>0.32977</td>\n",
       "      <td>0.10899</td>\n",
       "      <td>31.62732</td>\n",
       "      <td>129.23195</td>\n",
       "      <td>72.27588</td>\n",
       "      <td>2.49878</td>\n",
       "      <td>0.04531</td>\n",
       "      <td>54.27522</td>\n",
       "    </tr>\n",
       "    <tr>\n",
       "      <th>2019-01-20</th>\n",
       "      <td>3725.84873</td>\n",
       "      <td>123.52645</td>\n",
       "      <td>0.32275</td>\n",
       "      <td>0.10387</td>\n",
       "      <td>31.67268</td>\n",
       "      <td>127.36399</td>\n",
       "      <td>70.87272</td>\n",
       "      <td>2.44906</td>\n",
       "      <td>0.04401</td>\n",
       "      <td>52.31281</td>\n",
       "    </tr>\n",
       "    <tr>\n",
       "      <th>2019-01-21</th>\n",
       "      <td>3562.24999</td>\n",
       "      <td>118.46149</td>\n",
       "      <td>0.31907</td>\n",
       "      <td>0.10350</td>\n",
       "      <td>30.81957</td>\n",
       "      <td>122.49679</td>\n",
       "      <td>68.68131</td>\n",
       "      <td>2.34802</td>\n",
       "      <td>0.04309</td>\n",
       "      <td>52.39044</td>\n",
       "    </tr>\n",
       "  </tbody>\n",
       "</table>\n",
       "</div>"
      ],
      "text/plain": [
       "                   BTC        ETH      XRP      XLM       LTC        BCH  \\\n",
       "timestamp                                                                  \n",
       "2019-01-17  3629.24834  123.67875  0.33214  0.10751  31.85025  128.95890   \n",
       "2019-01-18  3660.18539  123.47812  0.32742  0.10755  31.63537  129.78928   \n",
       "2019-01-19  3639.24781  121.88712  0.32977  0.10899  31.62732  129.23195   \n",
       "2019-01-20  3725.84873  123.52645  0.32275  0.10387  31.67268  127.36399   \n",
       "2019-01-21  3562.24999  118.46149  0.31907  0.10350  30.81957  122.49679   \n",
       "\n",
       "                DASH      EOS      ADA       ZEC  \n",
       "timestamp                                         \n",
       "2019-01-17  71.71435  2.45711  0.04509  53.42577  \n",
       "2019-01-18  71.23590  2.51422  0.04484  53.68042  \n",
       "2019-01-19  72.27588  2.49878  0.04531  54.27522  \n",
       "2019-01-20  70.87272  2.44906  0.04401  52.31281  \n",
       "2019-01-21  68.68131  2.34802  0.04309  52.39044  "
      ]
     },
     "execution_count": 4,
     "metadata": {},
     "output_type": "execute_result"
    }
   ],
   "source": [
    "#create dataframe\n",
    "all_data = pd.DataFrame()\n",
    "for t in coins:\n",
    "    df = daily_price_historical(t,start_date,end_date)\n",
    "    a = df['Price']\n",
    "    all_data[t] = a\n",
    "all_data.tail()"
   ]
  },
  {
   "cell_type": "code",
   "execution_count": 5,
   "metadata": {
    "collapsed": true
   },
   "outputs": [],
   "source": [
    "#write data to excel\n",
    "writer = pd.ExcelWriter('C:/Users\\stoin\\Desktop\\Mike\\Jupyter\\Data\\coins_history_bletchley.xlsx')\n",
    "all_data.to_excel(writer,'Data')\n",
    "writer.save()"
   ]
  }
 ],
 "metadata": {
  "kernelspec": {
   "display_name": "Python 3",
   "language": "python",
   "name": "python3"
  },
  "language_info": {
   "codemirror_mode": {
    "name": "ipython",
    "version": 3
   },
   "file_extension": ".py",
   "mimetype": "text/x-python",
   "name": "python",
   "nbconvert_exporter": "python",
   "pygments_lexer": "ipython3",
   "version": "3.5.3"
  }
 },
 "nbformat": 4,
 "nbformat_minor": 2
}
