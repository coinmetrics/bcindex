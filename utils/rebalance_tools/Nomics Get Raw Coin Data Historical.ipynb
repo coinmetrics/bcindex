{
 "cells": [
  {
   "cell_type": "code",
   "execution_count": 7,
   "metadata": {
    "collapsed": true
   },
   "outputs": [],
   "source": [
    "import json\n",
    "import requests\n",
    "import datetime\n",
    "import pandas as pd\n",
    "import urllib.request\n",
    "import codecs"
   ]
  },
  {
   "cell_type": "code",
   "execution_count": 8,
   "metadata": {
    "collapsed": true
   },
   "outputs": [],
   "source": [
    "#only want tickers in previous month 10 index for blog post\n",
    "start_date = '2017-03-01'\n",
    "end_date = '2019-03-01'\n",
    "coins = ['BTC' , 'ETH' , 'XRP' , 'XLM' , 'LTC' , 'BCH' , 'TRX' , 'EOS' , 'ADA' , 'BSV']"
   ]
  },
  {
   "cell_type": "code",
   "execution_count": 9,
   "metadata": {
    "collapsed": true
   },
   "outputs": [],
   "source": [
    "def daily_price_historical(symbol, start, end):\n",
    "    #url = 'https://api.nomics.com/v1/candles?key=8ab88c64570680aeb728a3109e69dd96&exchange_exclude=gdax&interval=1d&currency={}&start={}&end={}'\\\n",
    "    url = 'https://api.nomics.com/v1/candles?key=8ab88c64570680aeb728a3109e69dd96&interval=1d&currency={}&start={}&end={}'\\\n",
    "    .format(symbol.upper(), start, end)\n",
    "    response = (urllib.request.urlopen(url).read())\n",
    "    response = response.decode('utf-8')\n",
    "    d = json.loads(response)\n",
    "    df = pd.DataFrame(d)\n",
    "    df['Price'] = pd.to_numeric(df['open'])\n",
    "    df = df.set_index(pd.DatetimeIndex(df['timestamp']))\n",
    "    return df"
   ]
  },
  {
   "cell_type": "code",
   "execution_count": 10,
   "metadata": {},
   "outputs": [
    {
     "data": {
      "text/html": [
       "<div>\n",
       "<style>\n",
       "    .dataframe thead tr:only-child th {\n",
       "        text-align: right;\n",
       "    }\n",
       "\n",
       "    .dataframe thead th {\n",
       "        text-align: left;\n",
       "    }\n",
       "\n",
       "    .dataframe tbody tr th {\n",
       "        vertical-align: top;\n",
       "    }\n",
       "</style>\n",
       "<table border=\"1\" class=\"dataframe\">\n",
       "  <thead>\n",
       "    <tr style=\"text-align: right;\">\n",
       "      <th></th>\n",
       "      <th>BTC</th>\n",
       "      <th>ETH</th>\n",
       "      <th>XRP</th>\n",
       "      <th>XLM</th>\n",
       "      <th>LTC</th>\n",
       "      <th>BCH</th>\n",
       "      <th>TRX</th>\n",
       "      <th>EOS</th>\n",
       "      <th>ADA</th>\n",
       "      <th>BSV</th>\n",
       "    </tr>\n",
       "    <tr>\n",
       "      <th>timestamp</th>\n",
       "      <th></th>\n",
       "      <th></th>\n",
       "      <th></th>\n",
       "      <th></th>\n",
       "      <th></th>\n",
       "      <th></th>\n",
       "      <th></th>\n",
       "      <th></th>\n",
       "      <th></th>\n",
       "      <th></th>\n",
       "    </tr>\n",
       "  </thead>\n",
       "  <tbody>\n",
       "    <tr>\n",
       "      <th>2019-02-25</th>\n",
       "      <td>3823.32118</td>\n",
       "      <td>134.00794</td>\n",
       "      <td>0.30219</td>\n",
       "      <td>0.08369</td>\n",
       "      <td>44.44539</td>\n",
       "      <td>128.50347</td>\n",
       "      <td>0.02388</td>\n",
       "      <td>3.58040</td>\n",
       "      <td>0.04247</td>\n",
       "      <td>60.99156</td>\n",
       "    </tr>\n",
       "    <tr>\n",
       "      <th>2019-02-26</th>\n",
       "      <td>3812.90604</td>\n",
       "      <td>137.61110</td>\n",
       "      <td>0.32535</td>\n",
       "      <td>0.08538</td>\n",
       "      <td>45.16192</td>\n",
       "      <td>132.85342</td>\n",
       "      <td>0.02389</td>\n",
       "      <td>3.53127</td>\n",
       "      <td>0.04322</td>\n",
       "      <td>67.23146</td>\n",
       "    </tr>\n",
       "    <tr>\n",
       "      <th>2019-02-27</th>\n",
       "      <td>3804.20425</td>\n",
       "      <td>136.89400</td>\n",
       "      <td>0.31714</td>\n",
       "      <td>0.08445</td>\n",
       "      <td>44.87208</td>\n",
       "      <td>132.20990</td>\n",
       "      <td>0.02414</td>\n",
       "      <td>3.43449</td>\n",
       "      <td>0.04293</td>\n",
       "      <td>73.99338</td>\n",
       "    </tr>\n",
       "    <tr>\n",
       "      <th>2019-02-28</th>\n",
       "      <td>3827.82194</td>\n",
       "      <td>135.25308</td>\n",
       "      <td>0.31059</td>\n",
       "      <td>0.08406</td>\n",
       "      <td>45.10592</td>\n",
       "      <td>130.94985</td>\n",
       "      <td>0.02395</td>\n",
       "      <td>3.50645</td>\n",
       "      <td>0.04299</td>\n",
       "      <td>67.34434</td>\n",
       "    </tr>\n",
       "    <tr>\n",
       "      <th>2019-03-01</th>\n",
       "      <td>3819.81236</td>\n",
       "      <td>135.93685</td>\n",
       "      <td>0.31355</td>\n",
       "      <td>0.08455</td>\n",
       "      <td>45.57140</td>\n",
       "      <td>129.90356</td>\n",
       "      <td>0.02365</td>\n",
       "      <td>3.50472</td>\n",
       "      <td>0.04289</td>\n",
       "      <td>66.53276</td>\n",
       "    </tr>\n",
       "  </tbody>\n",
       "</table>\n",
       "</div>"
      ],
      "text/plain": [
       "                   BTC        ETH      XRP      XLM       LTC        BCH  \\\n",
       "timestamp                                                                  \n",
       "2019-02-25  3823.32118  134.00794  0.30219  0.08369  44.44539  128.50347   \n",
       "2019-02-26  3812.90604  137.61110  0.32535  0.08538  45.16192  132.85342   \n",
       "2019-02-27  3804.20425  136.89400  0.31714  0.08445  44.87208  132.20990   \n",
       "2019-02-28  3827.82194  135.25308  0.31059  0.08406  45.10592  130.94985   \n",
       "2019-03-01  3819.81236  135.93685  0.31355  0.08455  45.57140  129.90356   \n",
       "\n",
       "                TRX      EOS      ADA       BSV  \n",
       "timestamp                                        \n",
       "2019-02-25  0.02388  3.58040  0.04247  60.99156  \n",
       "2019-02-26  0.02389  3.53127  0.04322  67.23146  \n",
       "2019-02-27  0.02414  3.43449  0.04293  73.99338  \n",
       "2019-02-28  0.02395  3.50645  0.04299  67.34434  \n",
       "2019-03-01  0.02365  3.50472  0.04289  66.53276  "
      ]
     },
     "execution_count": 10,
     "metadata": {},
     "output_type": "execute_result"
    }
   ],
   "source": [
    "#create dataframe\n",
    "all_data = pd.DataFrame()\n",
    "for t in coins:\n",
    "    df = daily_price_historical(t,start_date,end_date)\n",
    "    a = df['Price']\n",
    "    all_data[t] = a\n",
    "all_data.tail()"
   ]
  },
  {
   "cell_type": "code",
   "execution_count": 11,
   "metadata": {
    "collapsed": true
   },
   "outputs": [],
   "source": [
    "#write data to excel\n",
    "writer = pd.ExcelWriter('C:/Users\\stoin\\Desktop\\Mike\\Jupyter\\Data\\coins_history_bletchley.xlsx')\n",
    "all_data.to_excel(writer,'Data')\n",
    "writer.save()"
   ]
  },
  {
   "cell_type": "code",
   "execution_count": 12,
   "metadata": {},
   "outputs": [
    {
     "data": {
      "text/plain": [
       "BTC    7976.37551\n",
       "ETH     800.57524\n",
       "XRP       0.76447\n",
       "XLM       0.31750\n",
       "LTC     141.71052\n",
       "BCH    1091.79598\n",
       "TRX       0.03198\n",
       "EOS       8.09663\n",
       "ADA       0.32195\n",
       "BSV           NaN\n",
       "Name: 2018-02-05 00:00:00, dtype: float64"
      ]
     },
     "execution_count": 12,
     "metadata": {},
     "output_type": "execute_result"
    }
   ],
   "source": [
    "all_data.loc['2018-02-05']"
   ]
  },
  {
   "cell_type": "code",
   "execution_count": null,
   "metadata": {
    "collapsed": true
   },
   "outputs": [],
   "source": []
  }
 ],
 "metadata": {
  "kernelspec": {
   "display_name": "Python 3",
   "language": "python",
   "name": "python3"
  },
  "language_info": {
   "codemirror_mode": {
    "name": "ipython",
    "version": 3
   },
   "file_extension": ".py",
   "mimetype": "text/x-python",
   "name": "python",
   "nbconvert_exporter": "python",
   "pygments_lexer": "ipython3",
   "version": "3.5.3"
  }
 },
 "nbformat": 4,
 "nbformat_minor": 2
}
