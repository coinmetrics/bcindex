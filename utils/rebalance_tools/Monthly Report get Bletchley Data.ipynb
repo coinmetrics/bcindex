{
 "cells": [
  {
   "cell_type": "code",
   "execution_count": 1,
   "metadata": {
    "collapsed": true
   },
   "outputs": [],
   "source": [
    "import json\n",
    "import requests\n",
    "import datetime\n",
    "import pandas as pd\n",
    "import matplotlib.pyplot as plt"
   ]
  },
  {
   "cell_type": "code",
   "execution_count": 2,
   "metadata": {
    "collapsed": true
   },
   "outputs": [],
   "source": [
    "indexes_normal = ['ten' , 'twenty' , 'forty' , 'total' , 'ethereum' , 'currency' , 'platform' , 'application']\n",
    "indexes_even = ['ten' , 'twenty' , 'forty' , 'total' , 'ethereum']"
   ]
  },
  {
   "cell_type": "code",
   "execution_count": 3,
   "metadata": {
    "collapsed": true
   },
   "outputs": [],
   "source": [
    "def daily_price_historical(index):\n",
    "    url = 'https://www.bletchleyindexes.com/daily/'+i.format(index.lower())\n",
    "    page = requests.get(url)\n",
    "    data = page.json()\n",
    "    df = pd.DataFrame(data)\n",
    "    return df"
   ]
  },
  {
   "cell_type": "code",
   "execution_count": 4,
   "metadata": {
    "collapsed": true
   },
   "outputs": [],
   "source": [
    "all_data = pd.DataFrame()\n",
    "for i in indexes_normal:\n",
    "    df = daily_price_historical(i)\n",
    "    prices = pd.DataFrame()\n",
    "    prices['close'] = df['pxUsd']\n",
    "    prices.index = (pd.to_datetime(df['time'].values,unit='ms'))\n",
    "    all_data[i] = prices['close']\n",
    "all_data = all_data.ffill()\n",
    "all_data = all_data.dropna(axis=0,how='all')"
   ]
  },
  {
   "cell_type": "code",
   "execution_count": 5,
   "metadata": {
    "collapsed": true
   },
   "outputs": [],
   "source": [
    "all_data = all_data[::-1]"
   ]
  },
  {
   "cell_type": "code",
   "execution_count": 6,
   "metadata": {
    "collapsed": true
   },
   "outputs": [],
   "source": [
    "weights_API_list = ['TEN' , 'TWENTY' , 'FORTY' , 'TOTAL' , 'ETHEREUM' , 'CURRENCY' , 'PLATFORM' , 'APPLICATION']\n",
    "list_indexes = ['10' , '20' , '40' , 'Total' , 'ETH' , 'Currency' , 'Platform' , 'Application']\n",
    "endPoint = \"https://www.bletchleyindexes.com/api/weight\";\n",
    "old_weights = dict.fromkeys(list_indexes)\n",
    "for k in weights_API_list:\n",
    "    data = {'index':k}\n",
    "    old_weights[k] = pd.DataFrame()\n",
    "    response = requests.post(endPoint, json=data).text\n",
    "    old_weights[k] = pd.read_json(response, typ='series' , encoding='utf-8')"
   ]
  },
  {
   "cell_type": "code",
   "execution_count": 7,
   "metadata": {
    "collapsed": true
   },
   "outputs": [],
   "source": [
    "weights_master = dict.fromkeys(list_indexes)\n",
    "old_weights['10'] = old_weights['TEN']\n",
    "old_weights['20'] = old_weights['TWENTY']\n",
    "old_weights['40'] = old_weights['FORTY']\n",
    "old_weights['ETH'] = old_weights['ETHEREUM']\n",
    "old_weights['Currency'] = old_weights['CURRENCY']\n",
    "old_weights['Platform'] = old_weights['PLATFORM']\n",
    "old_weights['Application'] = old_weights['APPLICATION']\n",
    "old_weights['Total'] = old_weights['TOTAL']"
   ]
  },
  {
   "cell_type": "code",
   "execution_count": 8,
   "metadata": {
    "collapsed": true
   },
   "outputs": [],
   "source": [
    "#write data to excel\n",
    "writer = pd.ExcelWriter('C:/Users\\stoin\\Desktop\\Mike\\Jupyter\\Data\\\\bletchley_history.xlsx')\n",
    "all_data.to_excel(writer,'Data')\n",
    "writer.save()"
   ]
  },
  {
   "cell_type": "code",
   "execution_count": 9,
   "metadata": {},
   "outputs": [
    {
     "data": {
      "text/html": [
       "<div>\n",
       "<style>\n",
       "    .dataframe thead tr:only-child th {\n",
       "        text-align: right;\n",
       "    }\n",
       "\n",
       "    .dataframe thead th {\n",
       "        text-align: left;\n",
       "    }\n",
       "\n",
       "    .dataframe tbody tr th {\n",
       "        vertical-align: top;\n",
       "    }\n",
       "</style>\n",
       "<table border=\"1\" class=\"dataframe\">\n",
       "  <thead>\n",
       "    <tr style=\"text-align: right;\">\n",
       "      <th></th>\n",
       "      <th>ten</th>\n",
       "      <th>twenty</th>\n",
       "      <th>forty</th>\n",
       "      <th>total</th>\n",
       "      <th>ethereum</th>\n",
       "      <th>currency</th>\n",
       "      <th>platform</th>\n",
       "      <th>application</th>\n",
       "    </tr>\n",
       "  </thead>\n",
       "  <tbody>\n",
       "    <tr>\n",
       "      <th>2019-06-29 00:00:06.558</th>\n",
       "      <td>1179.33396190085409</td>\n",
       "      <td>942.580897927850174</td>\n",
       "      <td>92.9306232086731399</td>\n",
       "      <td>487.156697943031418</td>\n",
       "      <td>110.731182164801425</td>\n",
       "      <td>70.1934337596930789</td>\n",
       "      <td>28.6338638735622304</td>\n",
       "      <td>37.1072730624931282</td>\n",
       "    </tr>\n",
       "    <tr>\n",
       "      <th>2019-06-30 00:00:33.797</th>\n",
       "      <td>1160.15255417081767</td>\n",
       "      <td>981.829040451500987</td>\n",
       "      <td>95.8685772606742859</td>\n",
       "      <td>481.167531582021297</td>\n",
       "      <td>118.018603037249193</td>\n",
       "      <td>68.3489282715829347</td>\n",
       "      <td>29.4048055309350573</td>\n",
       "      <td>40.0011164030874795</td>\n",
       "    </tr>\n",
       "  </tbody>\n",
       "</table>\n",
       "</div>"
      ],
      "text/plain": [
       "                                         ten               twenty  \\\n",
       "2019-06-29 00:00:06.558  1179.33396190085409  942.580897927850174   \n",
       "2019-06-30 00:00:33.797  1160.15255417081767  981.829040451500987   \n",
       "\n",
       "                                       forty                total  \\\n",
       "2019-06-29 00:00:06.558  92.9306232086731399  487.156697943031418   \n",
       "2019-06-30 00:00:33.797  95.8685772606742859  481.167531582021297   \n",
       "\n",
       "                                    ethereum             currency  \\\n",
       "2019-06-29 00:00:06.558  110.731182164801425  70.1934337596930789   \n",
       "2019-06-30 00:00:33.797  118.018603037249193  68.3489282715829347   \n",
       "\n",
       "                                    platform          application  \n",
       "2019-06-29 00:00:06.558  28.6338638735622304  37.1072730624931282  \n",
       "2019-06-30 00:00:33.797  29.4048055309350573  40.0011164030874795  "
      ]
     },
     "execution_count": 9,
     "metadata": {},
     "output_type": "execute_result"
    }
   ],
   "source": [
    "all_data.tail(n=2)"
   ]
  },
  {
   "cell_type": "code",
   "execution_count": 10,
   "metadata": {},
   "outputs": [
    {
     "name": "stdout",
     "output_type": "stream",
     "text": [
      "bitcoin dominance: 87.80\n"
     ]
    }
   ],
   "source": [
    "print ('bitcoin dominance: %.02f' %(old_weights['Currency'].loc['BTC']*100))"
   ]
  }
 ],
 "metadata": {
  "kernelspec": {
   "display_name": "Python 3",
   "language": "python",
   "name": "python3"
  },
  "language_info": {
   "codemirror_mode": {
    "name": "ipython",
    "version": 3
   },
   "file_extension": ".py",
   "mimetype": "text/x-python",
   "name": "python",
   "nbconvert_exporter": "python",
   "pygments_lexer": "ipython3",
   "version": "3.5.3"
  }
 },
 "nbformat": 4,
 "nbformat_minor": 2
}
