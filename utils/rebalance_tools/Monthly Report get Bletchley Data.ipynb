{
 "cells": [
  {
   "cell_type": "code",
   "execution_count": 1,
   "metadata": {
    "collapsed": true
   },
   "outputs": [],
   "source": [
    "import json\n",
    "import requests\n",
    "import datetime\n",
    "import pandas as pd\n",
    "import matplotlib.pyplot as plt"
   ]
  },
  {
   "cell_type": "code",
   "execution_count": 2,
   "metadata": {
    "collapsed": true
   },
   "outputs": [],
   "source": [
    "indexes_normal = ['ten' , 'twenty' , 'forty' , 'total' , 'ethereum' , 'currency' , 'platform' , 'application']\n",
    "indexes_even = ['ten' , 'twenty' , 'forty' , 'total' , 'ethereum']"
   ]
  },
  {
   "cell_type": "code",
   "execution_count": 3,
   "metadata": {
    "collapsed": true
   },
   "outputs": [],
   "source": [
    "def daily_price_historical(index):\n",
    "    url = 'https://www.bletchleyindexes.com/daily/'+i.format(index.lower())\n",
    "    page = requests.get(url)\n",
    "    data = page.json()\n",
    "    df = pd.DataFrame(data)\n",
    "    return df"
   ]
  },
  {
   "cell_type": "code",
   "execution_count": 4,
   "metadata": {
    "collapsed": true
   },
   "outputs": [],
   "source": [
    "all_data = pd.DataFrame()\n",
    "for i in indexes_normal:\n",
    "    df = daily_price_historical(i)\n",
    "    prices = pd.DataFrame()\n",
    "    prices['close'] = df['pxUsd']\n",
    "    prices.index = (pd.to_datetime(df['time'].values,unit='ms'))\n",
    "    all_data[i] = prices['close']\n",
    "all_data = all_data.ffill()\n",
    "all_data = all_data.dropna(axis=0,how='all')"
   ]
  },
  {
   "cell_type": "code",
   "execution_count": 5,
   "metadata": {
    "collapsed": true
   },
   "outputs": [],
   "source": [
    "all_data = all_data[::-1]"
   ]
  },
  {
   "cell_type": "code",
   "execution_count": 6,
   "metadata": {
    "collapsed": true
   },
   "outputs": [],
   "source": [
    "weights_API_list = ['TEN' , 'TWENTY' , 'FORTY' , 'TOTAL' , 'ETHEREUM' , 'CURRENCY' , 'PLATFORM' , 'APPLICATION']\n",
    "list_indexes = ['10' , '20' , '40' , 'Total' , 'ETH' , 'Currency' , 'Platform' , 'Application']\n",
    "endPoint = \"https://www.bletchleyindexes.com/api/weight\";\n",
    "old_weights = dict.fromkeys(list_indexes)\n",
    "for k in weights_API_list:\n",
    "    data = {'index':k}\n",
    "    old_weights[k] = pd.DataFrame()\n",
    "    response = requests.post(endPoint, json=data).text\n",
    "    old_weights[k] = pd.read_json(response, typ='series' , encoding='utf-8')"
   ]
  },
  {
   "cell_type": "code",
   "execution_count": 7,
   "metadata": {
    "collapsed": true
   },
   "outputs": [],
   "source": [
    "weights_master = dict.fromkeys(list_indexes)\n",
    "old_weights['10'] = old_weights['TEN']\n",
    "old_weights['20'] = old_weights['TWENTY']\n",
    "old_weights['40'] = old_weights['FORTY']\n",
    "old_weights['ETH'] = old_weights['ETHEREUM']\n",
    "old_weights['Currency'] = old_weights['CURRENCY']\n",
    "old_weights['Platform'] = old_weights['PLATFORM']\n",
    "old_weights['Application'] = old_weights['APPLICATION']\n",
    "old_weights['Total'] = old_weights['TOTAL']"
   ]
  },
  {
   "cell_type": "code",
   "execution_count": 8,
   "metadata": {
    "collapsed": true
   },
   "outputs": [],
   "source": [
    "#write data to excel\n",
    "writer = pd.ExcelWriter('C:/Users\\stoin\\Desktop\\Mike\\Jupyter\\Data\\\\bletchley_history.xlsx')\n",
    "all_data.to_excel(writer,'Data')\n",
    "writer.save()"
   ]
  },
  {
   "cell_type": "code",
   "execution_count": 9,
   "metadata": {},
   "outputs": [
    {
     "data": {
      "text/html": [
       "<div>\n",
       "<style>\n",
       "    .dataframe thead tr:only-child th {\n",
       "        text-align: right;\n",
       "    }\n",
       "\n",
       "    .dataframe thead th {\n",
       "        text-align: left;\n",
       "    }\n",
       "\n",
       "    .dataframe tbody tr th {\n",
       "        vertical-align: top;\n",
       "    }\n",
       "</style>\n",
       "<table border=\"1\" class=\"dataframe\">\n",
       "  <thead>\n",
       "    <tr style=\"text-align: right;\">\n",
       "      <th></th>\n",
       "      <th>ten</th>\n",
       "      <th>twenty</th>\n",
       "      <th>forty</th>\n",
       "      <th>total</th>\n",
       "      <th>ethereum</th>\n",
       "      <th>currency</th>\n",
       "      <th>platform</th>\n",
       "      <th>application</th>\n",
       "    </tr>\n",
       "  </thead>\n",
       "  <tbody>\n",
       "    <tr>\n",
       "      <th>2019-05-31 00:00:48.981</th>\n",
       "      <td>869.042604867135992</td>\n",
       "      <td>856.713226702816428</td>\n",
       "      <td>92.3552507478130025</td>\n",
       "      <td>365.539506077539102</td>\n",
       "      <td>97.62943188468833</td>\n",
       "      <td>49.0808950456024959</td>\n",
       "      <td>27.6322853953299479</td>\n",
       "      <td>31.9027652720253734</td>\n",
       "    </tr>\n",
       "    <tr>\n",
       "      <th>2019-06-01 00:00:57.174</th>\n",
       "      <td>904.975523065781317</td>\n",
       "      <td>898.926785717921007</td>\n",
       "      <td>96.8156453640308854</td>\n",
       "      <td>380.925777410800833</td>\n",
       "      <td>101.570237886957059</td>\n",
       "      <td>50.8578772913080215</td>\n",
       "      <td>29.5750510379859968</td>\n",
       "      <td>33.0683805242854021</td>\n",
       "    </tr>\n",
       "  </tbody>\n",
       "</table>\n",
       "</div>"
      ],
      "text/plain": [
       "                                         ten               twenty  \\\n",
       "2019-05-31 00:00:48.981  869.042604867135992  856.713226702816428   \n",
       "2019-06-01 00:00:57.174  904.975523065781317  898.926785717921007   \n",
       "\n",
       "                                       forty                total  \\\n",
       "2019-05-31 00:00:48.981  92.3552507478130025  365.539506077539102   \n",
       "2019-06-01 00:00:57.174  96.8156453640308854  380.925777410800833   \n",
       "\n",
       "                                    ethereum             currency  \\\n",
       "2019-05-31 00:00:48.981    97.62943188468833  49.0808950456024959   \n",
       "2019-06-01 00:00:57.174  101.570237886957059  50.8578772913080215   \n",
       "\n",
       "                                    platform          application  \n",
       "2019-05-31 00:00:48.981  27.6322853953299479  31.9027652720253734  \n",
       "2019-06-01 00:00:57.174  29.5750510379859968  33.0683805242854021  "
      ]
     },
     "execution_count": 9,
     "metadata": {},
     "output_type": "execute_result"
    }
   ],
   "source": [
    "all_data.tail(n=2)"
   ]
  },
  {
   "cell_type": "code",
   "execution_count": 10,
   "metadata": {},
   "outputs": [
    {
     "name": "stdout",
     "output_type": "stream",
     "text": [
      "bitcoin dominance: 84.38\n"
     ]
    }
   ],
   "source": [
    "print ('bitcoin dominance: %.02f' %(old_weights['Currency'].loc['BTC']*100))"
   ]
  }
 ],
 "metadata": {
  "kernelspec": {
   "display_name": "Python 3",
   "language": "python",
   "name": "python3"
  },
  "language_info": {
   "codemirror_mode": {
    "name": "ipython",
    "version": 3
   },
   "file_extension": ".py",
   "mimetype": "text/x-python",
   "name": "python",
   "nbconvert_exporter": "python",
   "pygments_lexer": "ipython3",
   "version": "3.5.3"
  }
 },
 "nbformat": 4,
 "nbformat_minor": 2
}
