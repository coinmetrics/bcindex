{
 "cells": [
  {
   "cell_type": "code",
   "execution_count": 1,
   "metadata": {
    "collapsed": true
   },
   "outputs": [],
   "source": [
    "import json\n",
    "import requests\n",
    "import datetime\n",
    "import pandas as pd\n",
    "import matplotlib.pyplot as plt"
   ]
  },
  {
   "cell_type": "code",
   "execution_count": 2,
   "metadata": {
    "collapsed": true
   },
   "outputs": [],
   "source": [
    "indexes_normal = ['ten' , 'twenty' , 'forty' , 'total' , 'ethereum' , 'currency' , 'platform' , 'application']\n",
    "indexes_even = ['ten' , 'twenty' , 'forty' , 'total' , 'ethereum']"
   ]
  },
  {
   "cell_type": "code",
   "execution_count": 3,
   "metadata": {
    "collapsed": true
   },
   "outputs": [],
   "source": [
    "def daily_price_historical(index):\n",
    "    url = 'https://www.bletchleyindexes.com/daily/'+i.format(index.lower())\n",
    "    page = requests.get(url)\n",
    "    data = page.json()\n",
    "    df = pd.DataFrame(data)\n",
    "    return df"
   ]
  },
  {
   "cell_type": "code",
   "execution_count": 4,
   "metadata": {
    "collapsed": true
   },
   "outputs": [],
   "source": [
    "all_data = pd.DataFrame()\n",
    "for i in indexes_normal:\n",
    "    df = daily_price_historical(i)\n",
    "    prices = pd.DataFrame()\n",
    "    prices['close'] = df['pxUsd']\n",
    "    prices.index = (pd.to_datetime(df['time'].values,unit='ms'))\n",
    "    all_data[i] = prices['close']\n",
    "all_data = all_data.ffill()\n",
    "all_data = all_data.dropna(axis=0,how='all')"
   ]
  },
  {
   "cell_type": "code",
   "execution_count": 5,
   "metadata": {
    "collapsed": true
   },
   "outputs": [],
   "source": [
    "all_data = all_data[::-1]"
   ]
  },
  {
   "cell_type": "code",
   "execution_count": 6,
   "metadata": {
    "collapsed": true
   },
   "outputs": [],
   "source": [
    "weights_API_list = ['TEN' , 'TWENTY' , 'FORTY' , 'TOTAL' , 'ETHEREUM' , 'CURRENCY' , 'PLATFORM' , 'APPLICATION']\n",
    "list_indexes = ['10' , '20' , '40' , 'Total' , 'ETH' , 'Currency' , 'Platform' , 'Application']\n",
    "endPoint = \"https://www.bletchleyindexes.com/api/weight\";\n",
    "old_weights = dict.fromkeys(list_indexes)\n",
    "for k in weights_API_list:\n",
    "    data = {'index':k}\n",
    "    old_weights[k] = pd.DataFrame()\n",
    "    response = requests.post(endPoint, json=data).text\n",
    "    old_weights[k] = pd.read_json(response, typ='series' , encoding='utf-8')"
   ]
  },
  {
   "cell_type": "code",
   "execution_count": 7,
   "metadata": {
    "collapsed": true
   },
   "outputs": [],
   "source": [
    "weights_master = dict.fromkeys(list_indexes)\n",
    "old_weights['10'] = old_weights['TEN']\n",
    "old_weights['20'] = old_weights['TWENTY']\n",
    "old_weights['40'] = old_weights['FORTY']\n",
    "old_weights['ETH'] = old_weights['ETHEREUM']\n",
    "old_weights['Currency'] = old_weights['CURRENCY']\n",
    "old_weights['Platform'] = old_weights['PLATFORM']\n",
    "old_weights['Application'] = old_weights['APPLICATION']\n",
    "old_weights['Total'] = old_weights['TOTAL']"
   ]
  },
  {
   "cell_type": "code",
   "execution_count": 8,
   "metadata": {
    "collapsed": true
   },
   "outputs": [],
   "source": [
    "#write data to excel\n",
    "writer = pd.ExcelWriter('C:/Users\\stoin\\Desktop\\Mike\\Jupyter\\Data\\\\bletchley_history.xlsx')\n",
    "all_data.to_excel(writer,'Data')\n",
    "writer.save()"
   ]
  },
  {
   "cell_type": "code",
   "execution_count": 9,
   "metadata": {},
   "outputs": [
    {
     "data": {
      "text/html": [
       "<div>\n",
       "<style>\n",
       "    .dataframe thead tr:only-child th {\n",
       "        text-align: right;\n",
       "    }\n",
       "\n",
       "    .dataframe thead th {\n",
       "        text-align: left;\n",
       "    }\n",
       "\n",
       "    .dataframe tbody tr th {\n",
       "        vertical-align: top;\n",
       "    }\n",
       "</style>\n",
       "<table border=\"1\" class=\"dataframe\">\n",
       "  <thead>\n",
       "    <tr style=\"text-align: right;\">\n",
       "      <th></th>\n",
       "      <th>ten</th>\n",
       "      <th>twenty</th>\n",
       "      <th>forty</th>\n",
       "      <th>total</th>\n",
       "      <th>ethereum</th>\n",
       "      <th>currency</th>\n",
       "      <th>platform</th>\n",
       "      <th>application</th>\n",
       "    </tr>\n",
       "  </thead>\n",
       "  <tbody>\n",
       "    <tr>\n",
       "      <th>2019-02-25 00:00:10.850</th>\n",
       "      <td>418.737765906551545</td>\n",
       "      <td>382.894266342341609</td>\n",
       "      <td>55.1231877652306466</td>\n",
       "      <td>176.162790030008267</td>\n",
       "      <td>49.9191780222420789</td>\n",
       "      <td>22.1794220602085979</td>\n",
       "      <td>15.6913079294053102</td>\n",
       "      <td>16.9255939170168936</td>\n",
       "    </tr>\n",
       "    <tr>\n",
       "      <th>2019-02-26 00:00:04.770</th>\n",
       "      <td>428.973157836535961</td>\n",
       "      <td>383.730355349284366</td>\n",
       "      <td>56.2922519321558141</td>\n",
       "      <td>180.175943340754571</td>\n",
       "      <td>50.1587369844300142</td>\n",
       "      <td>22.6277713175088238</td>\n",
       "      <td>16.1042483012051605</td>\n",
       "      <td>17.0398137918222012</td>\n",
       "    </tr>\n",
       "  </tbody>\n",
       "</table>\n",
       "</div>"
      ],
      "text/plain": [
       "                                         ten               twenty  \\\n",
       "2019-02-25 00:00:10.850  418.737765906551545  382.894266342341609   \n",
       "2019-02-26 00:00:04.770  428.973157836535961  383.730355349284366   \n",
       "\n",
       "                                       forty                total  \\\n",
       "2019-02-25 00:00:10.850  55.1231877652306466  176.162790030008267   \n",
       "2019-02-26 00:00:04.770  56.2922519321558141  180.175943340754571   \n",
       "\n",
       "                                    ethereum             currency  \\\n",
       "2019-02-25 00:00:10.850  49.9191780222420789  22.1794220602085979   \n",
       "2019-02-26 00:00:04.770  50.1587369844300142  22.6277713175088238   \n",
       "\n",
       "                                    platform          application  \n",
       "2019-02-25 00:00:10.850  15.6913079294053102  16.9255939170168936  \n",
       "2019-02-26 00:00:04.770  16.1042483012051605  17.0398137918222012  "
      ]
     },
     "execution_count": 9,
     "metadata": {},
     "output_type": "execute_result"
    }
   ],
   "source": [
    "all_data.tail(n=2)"
   ]
  },
  {
   "cell_type": "code",
   "execution_count": 10,
   "metadata": {},
   "outputs": [
    {
     "name": "stdout",
     "output_type": "stream",
     "text": [
      "bitcoin dominance: 85.15\n"
     ]
    }
   ],
   "source": [
    "print ('bitcoin dominance: %.02f' %(old_weights['Currency'].loc['BTC']*100))"
   ]
  }
 ],
 "metadata": {
  "kernelspec": {
   "display_name": "Python 3",
   "language": "python",
   "name": "python3"
  },
  "language_info": {
   "codemirror_mode": {
    "name": "ipython",
    "version": 3
   },
   "file_extension": ".py",
   "mimetype": "text/x-python",
   "name": "python",
   "nbconvert_exporter": "python",
   "pygments_lexer": "ipython3",
   "version": "3.5.3"
  }
 },
 "nbformat": 4,
 "nbformat_minor": 2
}
