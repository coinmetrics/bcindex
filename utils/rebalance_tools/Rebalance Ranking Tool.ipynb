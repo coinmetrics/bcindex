{
 "cells": [
  {
   "cell_type": "code",
   "execution_count": 1,
   "metadata": {
    "collapsed": true
   },
   "outputs": [],
   "source": [
    "import json\n",
    "import requests\n",
    "import datetime\n",
    "import pandas as pd\n",
    "import urllib.request\n",
    "import codecs\n",
    "import numpy as np\n",
    "from six.moves import urllib"
   ]
  },
  {
   "cell_type": "code",
   "execution_count": 2,
   "metadata": {
    "collapsed": true
   },
   "outputs": [],
   "source": [
    "#eligibility criteria\n",
    "volume_cutoff = 0.1\n",
    "percent_float_cutoff = 0.1\n",
    "\n",
    "#month of rebalance\n",
    "old_month = 'september'\n",
    "new_month = 'october'"
   ]
  },
  {
   "cell_type": "code",
   "execution_count": 3,
   "metadata": {
    "collapsed": true,
    "scrolled": true
   },
   "outputs": [],
   "source": [
    "#change call to new filepath\n",
    "asset_db = pd.read_excel('C:/Users/stoin/Desktop/Mike/Bletch/bcindex/utils/rebalance_tools/csvs\\\\Bletchley Rebalance '+new_month+' 2019.xlsx',\\\n",
    "                         sheetname='assets',index_col='Ticker')"
   ]
  },
  {
   "cell_type": "code",
   "execution_count": 4,
   "metadata": {
    "collapsed": true
   },
   "outputs": [],
   "source": [
    "#grab all assets from Messari\n",
    "#deprecated as they have too many!\n",
    "#url = \"https://data.messari.io/api/v1/assets?with-profiles\"\n",
    "#response = (urllib.request.urlopen(url).read())\n",
    "#response = response.decode('utf-8')\n",
    "#d = json.loads(response)\n",
    "#df = pd.DataFrame(d['data'])\n",
    "#df = df.set_index((df['symbol']))"
   ]
  },
  {
   "cell_type": "code",
   "execution_count": 5,
   "metadata": {
    "collapsed": true
   },
   "outputs": [],
   "source": [
    "df = asset_db\n",
    "#ticker mapping issues between Bletchley DB and OnChainFX\n",
    "df.index = map(lambda x: x.lower(), df.index)"
   ]
  },
  {
   "cell_type": "code",
   "execution_count": 6,
   "metadata": {
    "collapsed": true
   },
   "outputs": [],
   "source": [
    "url_messari = \"https://data.messari.io/api/v1/assets/btc/metrics\"\n",
    "response_messari = (urllib.request.urlopen(url_messari).read())\n",
    "response_messari = response_messari.decode('utf-8')\n",
    "d_messari = json.loads(response_messari)\n",
    "df_all = pd.Series()"
   ]
  },
  {
   "cell_type": "code",
   "execution_count": 7,
   "metadata": {},
   "outputs": [],
   "source": [
    "#get Messari data given a ticker\n",
    "#don't actually use the category or sector data\n",
    "def get_messari_data(ticker):\n",
    "    url_messari = \"https://data.messari.io/api/v1/assets/{}/metrics\".format(ticker)\n",
    "    response_messari = (urllib.request.urlopen(url_messari).read())\n",
    "    response_messari = response_messari.decode('utf-8')\n",
    "    d_messari = json.loads(response_messari)\n",
    "    df_all = pd.Series()\n",
    "    if d_messari['data']['supply']['y_2050'] == None:\n",
    "        df_all['Y2050 Supply'] = (d_messari['data']['supply']['circulating'])\n",
    "    else:\n",
    "        df_all['Y2050 Supply'] = (d_messari['data']['supply']['y_2050'])\n",
    "    df_all['Supply % Issued'] = df_all['Y2050 Supply'] / ((df_all['Y2050 Supply']))\n",
    "    df_all['Price'] = (d_messari['data']['market_data']['price_usd'])\n",
    "    #df_all['Est Volume'] = ((d_messari['data']['market_data']['volume_last_24_hours']) * 30)\n",
    "    df_all['Marketcap'] = df_all['Price'] * df_all['Y2050 Supply']\n",
    "    df_all['Current Marketcap'] = df_all['Price'] * df_all['Y2050 Supply']\n",
    "    try:\n",
    "        df_all['Est Volume'] = ((d_messari['data']['market_data']['volume_last_24_hours']) * 180)\n",
    "    except:\n",
    "        pass\n",
    "    return df_all"
   ]
  },
  {
   "cell_type": "code",
   "execution_count": 8,
   "metadata": {
    "collapsed": true
   },
   "outputs": [],
   "source": [
    "url_messari = \"https://data.messari.io/api/v1/assets/elf/metrics\"\n",
    "response_messari = (urllib.request.urlopen(url_messari).read())\n",
    "response_messari = response_messari.decode('utf-8')\n",
    "d_messari = json.loads(response_messari)"
   ]
  },
  {
   "cell_type": "code",
   "execution_count": 9,
   "metadata": {
    "collapsed": true
   },
   "outputs": [],
   "source": [
    "#master function to get all Messari data and put in dictionary\n",
    "metrics_log = dict.fromkeys(df.index)\n",
    "for t in df.index:\n",
    "    try:\n",
    "        metrics = get_messari_data(t)\n",
    "        metrics_log[t] = metrics\n",
    "        df.loc[t,('Y2050 Supply')] = metrics['Y2050 Supply']\n",
    "        df.loc[t,('Available Supply')] = metrics['Y2050 Supply']\n",
    "        df.loc[t,('Supply % Issued')] = metrics['Supply % Issued']\n",
    "        df.loc[t,('Price')] = metrics['Price']\n",
    "        df.loc[t,('Marketcap')] = metrics['Marketcap']\n",
    "        df.loc[t,('Current Marketcap')] = metrics['Current Marketcap']\n",
    "        try:\n",
    "            df.loc[t,('Est Volume')] = metrics['Est Volume']\n",
    "        except:\n",
    "            pass\n",
    "    except:\n",
    "        pass"
   ]
  },
  {
   "cell_type": "code",
   "execution_count": 10,
   "metadata": {},
   "outputs": [
    {
     "data": {
      "text/plain": [
       "Y2050 Supply         5.344801e+08\n",
       "Supply % Issued      1.000000e+00\n",
       "Price                7.680949e-02\n",
       "Marketcap            4.105314e+07\n",
       "Current Marketcap    4.105314e+07\n",
       "Est Volume           2.912921e+08\n",
       "dtype: float64"
      ]
     },
     "execution_count": 10,
     "metadata": {},
     "output_type": "execute_result"
    }
   ],
   "source": [
    "metrics_log['elf']"
   ]
  },
  {
   "cell_type": "code",
   "execution_count": 11,
   "metadata": {
    "collapsed": true
   },
   "outputs": [],
   "source": [
    "#t = 'IOTA'\n",
    "#metrics = get_messari_data(t)\n",
    "#t = 'IOT'\n",
    "#print (metrics)\n",
    "#metrics_log[t] = metrics\n",
    "#df.loc[t,('Y2050 Supply')] = metrics['Y2050 Supply']\n",
    "#df.loc[t,('Available Supply')] = metrics['Available Supply']\n",
    "#df.loc[t,('Est Volume')] = metrics['Est Volume']\n",
    "#df.loc[t,('Supply % Issued')] = metrics['Supply % Issued']\n",
    "#df.loc[t,('Price')] = metrics['Price']\n",
    "#df.loc[t,('Marketcap')] = metrics['Marketcap']\n",
    "#df.loc[t,('Current Marketcap')] = metrics['Current Marketcap']\n",
    "#df.loc[t,('Category')] = metrics['Category']\n",
    "#df.loc[t,('Sectors')] = metrics['Sectors']\n",
    "#try:\n",
    "#    df.loc[t,('Est Volume')] = metrics['Est Volume']\n",
    "#except:\n",
    "#    pass\n",
    "#try:\n",
    "#    df.loc[t,('Category2')] = metrics['Category2']\n",
    "#except:\n",
    "#    pass\n",
    "#try:\n",
    "#    df.loc[t,('Sectors2')] = metrics['Sectors2']\n",
    "#except:\n",
    "#    pass"
   ]
  },
  {
   "cell_type": "code",
   "execution_count": 12,
   "metadata": {},
   "outputs": [],
   "source": [
    "# t = 'ELF'\n",
    "# metrics = get_messari_data(t)\n",
    "# t = 'ELF_TEST'\n",
    "# #print (metrics)\n",
    "# metrics_log[t] = metrics\n",
    "# metrics['Y2050 Supply']\n",
    "# df.loc[t,('Y2050 Supply')] = metrics['Y2050 Supply']\n",
    "# df.loc[t,('Available Supply')] = metrics['Available Supply']\n",
    "# df.loc[t,('Est Volume')] = metrics['Est Volume']\n",
    "# df.loc[t,('Supply % Issued')] = metrics['Supply % Issued']\n",
    "# df.loc[t,('Price')] = metrics['Price']\n",
    "# df.loc[t,('Marketcap')] = metrics['Marketcap']\n",
    "# df.loc[t,('Current Marketcap')] = metrics['Current Marketcap']\n",
    "# df.loc[t,('Category')] = metrics['Category']\n",
    "# df.loc[t,('Sectors')] = metrics['Sectors']\n",
    "# try:\n",
    "#    df.loc[t,('Est Volume')] = metrics['Est Volume']\n",
    "# except:\n",
    "#    pass\n",
    "# try:\n",
    "#    df.loc[t,('Category2')] = metrics['Category2']\n",
    "# except:\n",
    "#    pass\n",
    "# try:\n",
    "#    df.loc[t,('Sectors2')] = metrics['Sectors2']\n",
    "# except:\n",
    "#    pass"
   ]
  },
  {
   "cell_type": "code",
   "execution_count": 13,
   "metadata": {
    "collapsed": true
   },
   "outputs": [],
   "source": [
    "# t = 'VET'\n",
    "# metrics = get_messari_data(t)\n",
    "# metrics_log[t] = metrics\n",
    "# df.loc[t,('Y2050 Supply')] = metrics['Y2050 Supply']\n",
    "# df.loc[t,('Available Supply')] = metrics['Available Supply']\n",
    "# #df.loc[t,('Est Volume')] = metrics['Est Volume']\n",
    "# df.loc[t,('Supply % Issued')] = metrics['Supply % Issued']\n",
    "# df.loc[t,('Price')] = metrics['Price']\n",
    "# df.loc[t,('Marketcap')] = metrics['Marketcap']\n",
    "# df.loc[t,('Current Marketcap')] = metrics['Current Marketcap']\n",
    "# df.loc[t,('Category')] = metrics['Category']\n",
    "# df.loc[t,('Sectors')] = metrics['Sectors']\n",
    "# try:\n",
    "#     df.loc[t,('Est Volume')] = metrics['Est Volume']\n",
    "# except:\n",
    "#     pass\n",
    "# try:\n",
    "#     df.loc[t,('Category2')] = metrics['Category2']\n",
    "# except:\n",
    "#     pass\n",
    "# try:\n",
    "#     df.loc[t,('Sectors2')] = metrics['Sectors2']\n",
    "# except:\n",
    "#    pass"
   ]
  },
  {
   "cell_type": "code",
   "execution_count": 14,
   "metadata": {
    "collapsed": true
   },
   "outputs": [],
   "source": [
    "#change Messari data to uppercase to match other sources\n",
    "df.index = map(lambda x: x.upper(), df.index)"
   ]
  },
  {
   "cell_type": "code",
   "execution_count": 15,
   "metadata": {
    "collapsed": true
   },
   "outputs": [],
   "source": [
    "#df.loc['IOT'] = df.loc['IOTA']\n",
    "#df.loc['VET'] = df.loc['VEN']"
   ]
  },
  {
   "cell_type": "code",
   "execution_count": 16,
   "metadata": {
    "collapsed": true
   },
   "outputs": [],
   "source": [
    "#read in other data sources\n",
    "onchainfx_db = df"
   ]
  },
  {
   "cell_type": "code",
   "execution_count": 17,
   "metadata": {},
   "outputs": [
    {
     "name": "stdout",
     "output_type": "stream",
     "text": [
      "145\n",
      "145\n",
      "145\n",
      "145\n"
     ]
    }
   ],
   "source": [
    "#remove duplicates\n",
    "#print (len(coinmarketcap_db))\n",
    "print (len(onchainfx_db))\n",
    "print (len(asset_db))\n",
    "#coinmarketcap_db = coinmarketcap_db[~coinmarketcap_db.index.duplicated(keep='first')]\n",
    "onchainfx_db = onchainfx_db[~onchainfx_db.index.duplicated(keep='first')]\n",
    "asset_db = asset_db[~asset_db.index.duplicated(keep='first')]\n",
    "#print (len(coinmarketcap_db))\n",
    "print (len(onchainfx_db))\n",
    "print (len(asset_db))"
   ]
  },
  {
   "cell_type": "code",
   "execution_count": 18,
   "metadata": {
    "collapsed": true
   },
   "outputs": [],
   "source": [
    "#fix any ticker mapping issues - rank date use these\n",
    "#onchainfx_db = onchainfx_db.rename({'HSR' : 'HC'})\n",
    "#onchainfx_db = onchainfx_db.rename({'HSR' : 'HC'})\n",
    "onchainfx_db = onchainfx_db.rename({'IOTA' : 'MIOTA'})\n",
    "onchainfx_db = onchainfx_db.rename({'IOTA' : 'MIOTA'})\n",
    "asset_db = asset_db.rename({'IOTA' : 'MIOTA'})"
   ]
  },
  {
   "cell_type": "code",
   "execution_count": 19,
   "metadata": {
    "collapsed": true
   },
   "outputs": [],
   "source": [
    "# #fix any ticker mapping issues - rebalance day use these\n",
    "# onchainfx_db = onchainfx_db.rename({'HSR' : 'HC'})\n",
    "# onchainfx_db = onchainfx_db.rename({'HSR' : 'HC'})\n",
    "# onchainfx_db = onchainfx_db.rename({'IOTA' : 'IOT'})\n",
    "# asset_db = asset_db.rename({'IOTA' : 'IOT'})"
   ]
  },
  {
   "cell_type": "code",
   "execution_count": 20,
   "metadata": {
    "collapsed": true
   },
   "outputs": [],
   "source": [
    "#onchainfx_db['Marketcap'] = np.where(onchainfx_db['Marketcap'].isnull() == True,onchainfx_db['Current Marketcap'],onchainfx_db['Marketcap'])"
   ]
  },
  {
   "cell_type": "code",
   "execution_count": 21,
   "metadata": {},
   "outputs": [
    {
     "data": {
      "text/plain": [
       "Coin                      Gnosis\n",
       "Class                          3\n",
       "Sector                       NaN\n",
       "Quality Exchange?              1\n",
       "ERC20                          1\n",
       "ICO ok?                        1\n",
       "Eligible                       1\n",
       "Y2050 Supply         1.10459e+06\n",
       "Available Supply     1.10459e+06\n",
       "Supply % Issued                1\n",
       "Price                    14.5218\n",
       "Marketcap            1.60406e+07\n",
       "Current Marketcap    1.60406e+07\n",
       "Est Volume           5.69122e+06\n",
       "Name: GNO, dtype: object"
      ]
     },
     "execution_count": 21,
     "metadata": {},
     "output_type": "execute_result"
    }
   ],
   "source": [
    "onchainfx_db.loc['GNO']"
   ]
  },
  {
   "cell_type": "code",
   "execution_count": 22,
   "metadata": {
    "collapsed": true
   },
   "outputs": [],
   "source": [
    "#read in previous month Bletchley Data\n",
    "list_indexes = ['10' , '20' , '40' , 'Total' , 'ETH' , 'Currency' , 'Platform' , 'Application']\n",
    "indexes_old = dict.fromkeys(list_indexes)\n",
    "indexes_new_tickers = dict.fromkeys(list_indexes)\n",
    "indexes_new_file = dict.fromkeys(list_indexes)\n",
    "for k in indexes_old:\n",
    "    if (k == 'Currency' or k == 'Platform' or k == 'Application'):\n",
    "        indexes_old[k] = pd.DataFrame()\n",
    "        indexes_new_tickers[k] = pd.DataFrame()\n",
    "        indexes_new_file[k] = pd.DataFrame(columns=['Float'])\n",
    "        indexes_old[k] = pd.read_csv('C:/Users/stoin/Desktop/Mike/Bletch/bcindex/index-data/src/main/resources/business_rules/'+k+'_'+old_month+'_rebal.csv' , index_col=[0] , names=[k,'Adj Float'])\n",
    "    else:\n",
    "        indexes_old[k] = pd.DataFrame()\n",
    "        indexes_new_tickers[k] = pd.DataFrame()\n",
    "        indexes_new_file[k] = pd.DataFrame(columns=['Float'])\n",
    "        indexes_old[k] = pd.read_csv('C:/Users/stoin/Desktop/Mike/Bletch/bcindex/index-data/src/main/resources/business_rules/'+k+'_'+old_month+'_rebal.csv' , index_col=[0] , names=[k,'Float' , 'Adj Float'])"
   ]
  },
  {
   "cell_type": "code",
   "execution_count": 23,
   "metadata": {
    "collapsed": true
   },
   "outputs": [],
   "source": [
    "#main function to create table of all assets\n",
    "def create_universe(onchainfx,assets):\n",
    "    eligibility = pd.DataFrame(columns = ['Marketcap'])\n",
    "    eligibility['Marketcap'] = onchainfx['Marketcap']\n",
    "    eligibility['Current Marketcap'] = onchainfx['Current Marketcap']\n",
    "    eligibility['Float Percent'] = onchainfx['Supply % Issued']\n",
    "    eligibility['Float'] = onchainfx['Available Supply']\n",
    "    eligibility['Price'] = onchainfx['Price']\n",
    "    eligibility['Total Supply'] = onchainfx['Y2050 Supply']\n",
    "    eligibility['Volume'] = onchainfx['Est Volume']\n",
    "    eligibility['Float Pass'] = np.where(eligibility['Float Percent']>=0.1, 1, 0)\n",
    "    eligibility['Volume Ratio'] = eligibility['Volume'] / eligibility['Current Marketcap']\n",
    "    eligibility['Volume Pass'] = np.where(eligibility['Volume Ratio']>=volume_cutoff, 1, 0)\n",
    "    for t in eligibility.index:\n",
    "        if t in assets.index:\n",
    "            eligibility.loc[t,('Other Pass')] = assets.loc[t,('Eligible')]\n",
    "            eligibility.loc[t,('Class')] = assets.loc[t,('Class')]\n",
    "            eligibility.loc[t,('ERC20')] = assets.loc[t,('ERC20')]\n",
    "        else:\n",
    "            print (t,' no other data!')\n",
    "            eligibility.loc[t,('Other Pass')] = 0\n",
    "    eligibility['Score'] = eligibility['Volume Pass'] + eligibility['Other Pass'] + eligibility['Float Pass']\n",
    "    eligibility['Eligible'] = np.where(eligibility['Score']>=2.99999, 1, 0)\n",
    "    #check if duplicates\n",
    "    count = len(eligibility.index)\n",
    "    count1 = len(eligibility.index.unique())\n",
    "    if count != count1:\n",
    "        print ('duplicate tickers')\n",
    "    return eligibility"
   ]
  },
  {
   "cell_type": "code",
   "execution_count": 24,
   "metadata": {
    "collapsed": true
   },
   "outputs": [],
   "source": [
    "#rank assets by 2050 marketcap for selection list\n",
    "def rank_and_sort(df):\n",
    "    df['Rank'] = df['Marketcap'].rank(ascending=False).astype(int)\n",
    "    df_sorted = df.sort_values('Rank')\n",
    "    return df_sorted"
   ]
  },
  {
   "cell_type": "code",
   "execution_count": 25,
   "metadata": {},
   "outputs": [],
   "source": [
    "#get list of eligible assets and rank them\n",
    "#really noisy error logging right now due to Messari having 4000 assets\n",
    "eligibility_db = create_universe(onchainfx_db,asset_db)\n",
    "eligible_db = eligibility_db[eligibility_db.Eligible != 0]\n",
    "ineligible_db = eligibility_db[eligibility_db.Eligible == 0]"
   ]
  },
  {
   "cell_type": "code",
   "execution_count": 26,
   "metadata": {},
   "outputs": [
    {
     "data": {
      "text/html": [
       "<div>\n",
       "<style>\n",
       "    .dataframe thead tr:only-child th {\n",
       "        text-align: right;\n",
       "    }\n",
       "\n",
       "    .dataframe thead th {\n",
       "        text-align: left;\n",
       "    }\n",
       "\n",
       "    .dataframe tbody tr th {\n",
       "        vertical-align: top;\n",
       "    }\n",
       "</style>\n",
       "<table border=\"1\" class=\"dataframe\">\n",
       "  <thead>\n",
       "    <tr style=\"text-align: right;\">\n",
       "      <th></th>\n",
       "      <th>Marketcap</th>\n",
       "      <th>Current Marketcap</th>\n",
       "      <th>Float Percent</th>\n",
       "      <th>Float</th>\n",
       "      <th>Price</th>\n",
       "      <th>Total Supply</th>\n",
       "      <th>Volume</th>\n",
       "      <th>Float Pass</th>\n",
       "      <th>Volume Ratio</th>\n",
       "      <th>Volume Pass</th>\n",
       "      <th>Other Pass</th>\n",
       "      <th>Class</th>\n",
       "      <th>ERC20</th>\n",
       "      <th>Score</th>\n",
       "      <th>Eligible</th>\n",
       "    </tr>\n",
       "  </thead>\n",
       "  <tbody>\n",
       "    <tr>\n",
       "      <th>BTCP</th>\n",
       "      <td>2.562703e+07</td>\n",
       "      <td>2.562703e+07</td>\n",
       "      <td>1.0</td>\n",
       "      <td>2.101452e+07</td>\n",
       "      <td>1.219492</td>\n",
       "      <td>2.101452e+07</td>\n",
       "      <td>4.632615e+06</td>\n",
       "      <td>1</td>\n",
       "      <td>0.180771</td>\n",
       "      <td>1</td>\n",
       "      <td>0.0</td>\n",
       "      <td>1.0</td>\n",
       "      <td>0.0</td>\n",
       "      <td>2.0</td>\n",
       "      <td>0</td>\n",
       "    </tr>\n",
       "    <tr>\n",
       "      <th>CTXC</th>\n",
       "      <td>1.956314e+07</td>\n",
       "      <td>1.956314e+07</td>\n",
       "      <td>1.0</td>\n",
       "      <td>2.539879e+08</td>\n",
       "      <td>0.077024</td>\n",
       "      <td>2.539879e+08</td>\n",
       "      <td>3.730080e+08</td>\n",
       "      <td>1</td>\n",
       "      <td>19.066881</td>\n",
       "      <td>1</td>\n",
       "      <td>0.0</td>\n",
       "      <td>2.0</td>\n",
       "      <td>0.0</td>\n",
       "      <td>2.0</td>\n",
       "      <td>0</td>\n",
       "    </tr>\n",
       "    <tr>\n",
       "      <th>DENT</th>\n",
       "      <td>2.679525e+07</td>\n",
       "      <td>2.679525e+07</td>\n",
       "      <td>1.0</td>\n",
       "      <td>1.000000e+11</td>\n",
       "      <td>0.000268</td>\n",
       "      <td>1.000000e+11</td>\n",
       "      <td>3.720434e+08</td>\n",
       "      <td>1</td>\n",
       "      <td>13.884678</td>\n",
       "      <td>1</td>\n",
       "      <td>0.0</td>\n",
       "      <td>3.0</td>\n",
       "      <td>0.0</td>\n",
       "      <td>2.0</td>\n",
       "      <td>0</td>\n",
       "    </tr>\n",
       "    <tr>\n",
       "      <th>DRGN</th>\n",
       "      <td>8.238944e+06</td>\n",
       "      <td>8.238944e+06</td>\n",
       "      <td>1.0</td>\n",
       "      <td>2.384219e+08</td>\n",
       "      <td>0.034556</td>\n",
       "      <td>2.384219e+08</td>\n",
       "      <td>2.147579e+06</td>\n",
       "      <td>1</td>\n",
       "      <td>0.260662</td>\n",
       "      <td>1</td>\n",
       "      <td>0.0</td>\n",
       "      <td>3.0</td>\n",
       "      <td>0.0</td>\n",
       "      <td>2.0</td>\n",
       "      <td>0</td>\n",
       "    </tr>\n",
       "    <tr>\n",
       "      <th>ETN</th>\n",
       "      <td>3.968552e+07</td>\n",
       "      <td>3.968552e+07</td>\n",
       "      <td>1.0</td>\n",
       "      <td>9.831274e+09</td>\n",
       "      <td>0.004037</td>\n",
       "      <td>9.831274e+09</td>\n",
       "      <td>3.563027e+07</td>\n",
       "      <td>1</td>\n",
       "      <td>0.897815</td>\n",
       "      <td>1</td>\n",
       "      <td>0.0</td>\n",
       "      <td>3.0</td>\n",
       "      <td>0.0</td>\n",
       "      <td>2.0</td>\n",
       "      <td>0</td>\n",
       "    </tr>\n",
       "    <tr>\n",
       "      <th>KCS</th>\n",
       "      <td>9.820154e+07</td>\n",
       "      <td>9.820154e+07</td>\n",
       "      <td>1.0</td>\n",
       "      <td>8.780105e+07</td>\n",
       "      <td>1.118455</td>\n",
       "      <td>8.780105e+07</td>\n",
       "      <td>9.176384e+08</td>\n",
       "      <td>1</td>\n",
       "      <td>9.344441</td>\n",
       "      <td>1</td>\n",
       "      <td>0.0</td>\n",
       "      <td>2.0</td>\n",
       "      <td>0.0</td>\n",
       "      <td>2.0</td>\n",
       "      <td>0</td>\n",
       "    </tr>\n",
       "    <tr>\n",
       "      <th>R</th>\n",
       "      <td>2.289760e+07</td>\n",
       "      <td>2.289760e+07</td>\n",
       "      <td>1.0</td>\n",
       "      <td>4.844500e+08</td>\n",
       "      <td>0.047265</td>\n",
       "      <td>4.844500e+08</td>\n",
       "      <td>4.871846e+06</td>\n",
       "      <td>1</td>\n",
       "      <td>0.212767</td>\n",
       "      <td>1</td>\n",
       "      <td>0.0</td>\n",
       "      <td>3.0</td>\n",
       "      <td>0.0</td>\n",
       "      <td>2.0</td>\n",
       "      <td>0</td>\n",
       "    </tr>\n",
       "    <tr>\n",
       "      <th>RHOC</th>\n",
       "      <td>2.281999e+07</td>\n",
       "      <td>2.281999e+07</td>\n",
       "      <td>1.0</td>\n",
       "      <td>3.737899e+08</td>\n",
       "      <td>0.061050</td>\n",
       "      <td>3.737899e+08</td>\n",
       "      <td>2.443917e+06</td>\n",
       "      <td>1</td>\n",
       "      <td>0.107095</td>\n",
       "      <td>1</td>\n",
       "      <td>0.0</td>\n",
       "      <td>3.0</td>\n",
       "      <td>0.0</td>\n",
       "      <td>2.0</td>\n",
       "      <td>0</td>\n",
       "    </tr>\n",
       "    <tr>\n",
       "      <th>SMART</th>\n",
       "      <td>3.635644e+06</td>\n",
       "      <td>3.635644e+06</td>\n",
       "      <td>1.0</td>\n",
       "      <td>1.413859e+09</td>\n",
       "      <td>0.002571</td>\n",
       "      <td>1.413859e+09</td>\n",
       "      <td>6.653906e+05</td>\n",
       "      <td>1</td>\n",
       "      <td>0.183019</td>\n",
       "      <td>1</td>\n",
       "      <td>0.0</td>\n",
       "      <td>3.0</td>\n",
       "      <td>0.0</td>\n",
       "      <td>2.0</td>\n",
       "      <td>0</td>\n",
       "    </tr>\n",
       "    <tr>\n",
       "      <th>SPANK</th>\n",
       "      <td>2.844556e+06</td>\n",
       "      <td>2.844556e+06</td>\n",
       "      <td>1.0</td>\n",
       "      <td>3.000434e+08</td>\n",
       "      <td>0.009480</td>\n",
       "      <td>3.000434e+08</td>\n",
       "      <td>8.283023e+06</td>\n",
       "      <td>1</td>\n",
       "      <td>2.911886</td>\n",
       "      <td>1</td>\n",
       "      <td>0.0</td>\n",
       "      <td>3.0</td>\n",
       "      <td>1.0</td>\n",
       "      <td>2.0</td>\n",
       "      <td>0</td>\n",
       "    </tr>\n",
       "    <tr>\n",
       "      <th>HT</th>\n",
       "      <td>7.901566e+08</td>\n",
       "      <td>7.901566e+08</td>\n",
       "      <td>1.0</td>\n",
       "      <td>2.456961e+08</td>\n",
       "      <td>3.215991</td>\n",
       "      <td>2.456961e+08</td>\n",
       "      <td>5.623054e+09</td>\n",
       "      <td>1</td>\n",
       "      <td>7.116379</td>\n",
       "      <td>1</td>\n",
       "      <td>0.0</td>\n",
       "      <td>3.0</td>\n",
       "      <td>1.0</td>\n",
       "      <td>2.0</td>\n",
       "      <td>0</td>\n",
       "    </tr>\n",
       "    <tr>\n",
       "      <th>NEXO</th>\n",
       "      <td>8.309628e+07</td>\n",
       "      <td>8.309628e+07</td>\n",
       "      <td>1.0</td>\n",
       "      <td>1.000000e+09</td>\n",
       "      <td>0.083096</td>\n",
       "      <td>1.000000e+09</td>\n",
       "      <td>1.990484e+07</td>\n",
       "      <td>1</td>\n",
       "      <td>0.239539</td>\n",
       "      <td>1</td>\n",
       "      <td>0.0</td>\n",
       "      <td>3.0</td>\n",
       "      <td>1.0</td>\n",
       "      <td>2.0</td>\n",
       "      <td>0</td>\n",
       "    </tr>\n",
       "    <tr>\n",
       "      <th>ELA</th>\n",
       "      <td>3.278632e+07</td>\n",
       "      <td>3.278632e+07</td>\n",
       "      <td>1.0</td>\n",
       "      <td>1.606389e+07</td>\n",
       "      <td>2.040995</td>\n",
       "      <td>1.606389e+07</td>\n",
       "      <td>6.929459e+08</td>\n",
       "      <td>1</td>\n",
       "      <td>21.135218</td>\n",
       "      <td>1</td>\n",
       "      <td>0.0</td>\n",
       "      <td>2.0</td>\n",
       "      <td>0.0</td>\n",
       "      <td>2.0</td>\n",
       "      <td>0</td>\n",
       "    </tr>\n",
       "    <tr>\n",
       "      <th>PAI</th>\n",
       "      <td>1.251041e+07</td>\n",
       "      <td>1.251041e+07</td>\n",
       "      <td>1.0</td>\n",
       "      <td>2.097694e+09</td>\n",
       "      <td>0.005964</td>\n",
       "      <td>2.097694e+09</td>\n",
       "      <td>4.930871e+07</td>\n",
       "      <td>1</td>\n",
       "      <td>3.941414</td>\n",
       "      <td>1</td>\n",
       "      <td>0.0</td>\n",
       "      <td>3.0</td>\n",
       "      <td>0.0</td>\n",
       "      <td>2.0</td>\n",
       "      <td>0</td>\n",
       "    </tr>\n",
       "  </tbody>\n",
       "</table>\n",
       "</div>"
      ],
      "text/plain": [
       "          Marketcap  Current Marketcap  Float Percent         Float     Price  \\\n",
       "BTCP   2.562703e+07       2.562703e+07            1.0  2.101452e+07  1.219492   \n",
       "CTXC   1.956314e+07       1.956314e+07            1.0  2.539879e+08  0.077024   \n",
       "DENT   2.679525e+07       2.679525e+07            1.0  1.000000e+11  0.000268   \n",
       "DRGN   8.238944e+06       8.238944e+06            1.0  2.384219e+08  0.034556   \n",
       "ETN    3.968552e+07       3.968552e+07            1.0  9.831274e+09  0.004037   \n",
       "KCS    9.820154e+07       9.820154e+07            1.0  8.780105e+07  1.118455   \n",
       "R      2.289760e+07       2.289760e+07            1.0  4.844500e+08  0.047265   \n",
       "RHOC   2.281999e+07       2.281999e+07            1.0  3.737899e+08  0.061050   \n",
       "SMART  3.635644e+06       3.635644e+06            1.0  1.413859e+09  0.002571   \n",
       "SPANK  2.844556e+06       2.844556e+06            1.0  3.000434e+08  0.009480   \n",
       "HT     7.901566e+08       7.901566e+08            1.0  2.456961e+08  3.215991   \n",
       "NEXO   8.309628e+07       8.309628e+07            1.0  1.000000e+09  0.083096   \n",
       "ELA    3.278632e+07       3.278632e+07            1.0  1.606389e+07  2.040995   \n",
       "PAI    1.251041e+07       1.251041e+07            1.0  2.097694e+09  0.005964   \n",
       "\n",
       "       Total Supply        Volume  Float Pass  Volume Ratio  Volume Pass  \\\n",
       "BTCP   2.101452e+07  4.632615e+06           1      0.180771            1   \n",
       "CTXC   2.539879e+08  3.730080e+08           1     19.066881            1   \n",
       "DENT   1.000000e+11  3.720434e+08           1     13.884678            1   \n",
       "DRGN   2.384219e+08  2.147579e+06           1      0.260662            1   \n",
       "ETN    9.831274e+09  3.563027e+07           1      0.897815            1   \n",
       "KCS    8.780105e+07  9.176384e+08           1      9.344441            1   \n",
       "R      4.844500e+08  4.871846e+06           1      0.212767            1   \n",
       "RHOC   3.737899e+08  2.443917e+06           1      0.107095            1   \n",
       "SMART  1.413859e+09  6.653906e+05           1      0.183019            1   \n",
       "SPANK  3.000434e+08  8.283023e+06           1      2.911886            1   \n",
       "HT     2.456961e+08  5.623054e+09           1      7.116379            1   \n",
       "NEXO   1.000000e+09  1.990484e+07           1      0.239539            1   \n",
       "ELA    1.606389e+07  6.929459e+08           1     21.135218            1   \n",
       "PAI    2.097694e+09  4.930871e+07           1      3.941414            1   \n",
       "\n",
       "       Other Pass  Class  ERC20  Score  Eligible  \n",
       "BTCP          0.0    1.0    0.0    2.0         0  \n",
       "CTXC          0.0    2.0    0.0    2.0         0  \n",
       "DENT          0.0    3.0    0.0    2.0         0  \n",
       "DRGN          0.0    3.0    0.0    2.0         0  \n",
       "ETN           0.0    3.0    0.0    2.0         0  \n",
       "KCS           0.0    2.0    0.0    2.0         0  \n",
       "R             0.0    3.0    0.0    2.0         0  \n",
       "RHOC          0.0    3.0    0.0    2.0         0  \n",
       "SMART         0.0    3.0    0.0    2.0         0  \n",
       "SPANK         0.0    3.0    1.0    2.0         0  \n",
       "HT            0.0    3.0    1.0    2.0         0  \n",
       "NEXO          0.0    3.0    1.0    2.0         0  \n",
       "ELA           0.0    2.0    0.0    2.0         0  \n",
       "PAI           0.0    3.0    0.0    2.0         0  "
      ]
     },
     "execution_count": 26,
     "metadata": {},
     "output_type": "execute_result"
    }
   ],
   "source": [
    "#make sure I've correctly excluded all of these\n",
    "double_check = ineligible_db[ineligible_db['Volume Pass'] == 1]\n",
    "double_check"
   ]
  },
  {
   "cell_type": "code",
   "execution_count": 27,
   "metadata": {},
   "outputs": [],
   "source": [
    "eligible_db = eligible_db.append(ineligible_db.loc['XTZ'])\n",
    "eligible_db = eligible_db.drop('ATOM')"
   ]
  },
  {
   "cell_type": "code",
   "execution_count": 28,
   "metadata": {},
   "outputs": [],
   "source": [
    "#create eligible universe - not sure on why there is a warning\n",
    "universe = rank_and_sort(eligible_db)"
   ]
  },
  {
   "cell_type": "code",
   "execution_count": 29,
   "metadata": {},
   "outputs": [
    {
     "data": {
      "text/plain": [
       "Marketcap            1.749287e+09\n",
       "Current Marketcap    1.749287e+09\n",
       "Float Percent        1.000000e+00\n",
       "Float                1.923801e+09\n",
       "Price                9.092869e-01\n",
       "Total Supply         1.923801e+09\n",
       "Volume               1.347448e+08\n",
       "Float Pass           1.000000e+00\n",
       "Volume Ratio         7.702841e-02\n",
       "Volume Pass          0.000000e+00\n",
       "Other Pass           1.000000e+00\n",
       "Class                2.000000e+00\n",
       "ERC20                0.000000e+00\n",
       "Score                2.000000e+00\n",
       "Eligible             0.000000e+00\n",
       "Rank                 1.000000e+01\n",
       "Name: XTZ, dtype: float64"
      ]
     },
     "execution_count": 29,
     "metadata": {},
     "output_type": "execute_result"
    }
   ],
   "source": [
    "universe = universe.rename({'HSR' : 'HC'})\n",
    "universe = universe.rename({'IOT' : 'MIOTA'})\n",
    "universe = universe.rename({'VEN' : 'VET'})\n",
    "universe.loc['XTZ']"
   ]
  },
  {
   "cell_type": "code",
   "execution_count": 30,
   "metadata": {},
   "outputs": [
    {
     "name": "stdout",
     "output_type": "stream",
     "text": [
      "Retained ADA\n",
      "Retained BNB\n",
      "10 full! Do not add  LINK\n",
      "10 full! Do not add  XTZ\n"
     ]
    }
   ],
   "source": [
    "#create ten index membership\n",
    "ten_auto = universe[universe['Rank'] <= 8]\n",
    "indexes_new_tickers['10'] = pd.DataFrame()\n",
    "indexes_new_tickers['10'] = ten_auto\n",
    "ten_band = universe[universe['Rank'] <= 12]\n",
    "ten_band = ten_band[ten_band['Rank'] > 8]\n",
    "count_ten_members = len(ten_auto)\n",
    "for t in ten_band.index:\n",
    "    if t in indexes_old['10'].index:\n",
    "        if count_ten_members < 10:\n",
    "            indexes_new_tickers['10'] = indexes_new_tickers['10'].append(ten_band.loc[t])\n",
    "            count_ten_members += 1\n",
    "            print ('Retained' , t)\n",
    "        else:\n",
    "            print ('10 full! No room for' , t)\n",
    "for t in ten_band.index:\n",
    "    if t not in indexes_old['10'].index:\n",
    "        if count_ten_members < 10:\n",
    "            print ('New add' , t)\n",
    "            indexes_new_tickers['10'] = indexes_new_tickers['10'].append(ten_band.loc[t])\n",
    "            count_ten_members += 1\n",
    "        else:\n",
    "            print ('10 full! Do not add ' , t)"
   ]
  },
  {
   "cell_type": "code",
   "execution_count": 31,
   "metadata": {},
   "outputs": [
    {
     "name": "stdout",
     "output_type": "stream",
     "text": [
      "Retained BAT\n",
      "Retained LSK\n",
      "New add ZRX\n",
      "New add QTUM\n",
      "20 full! Do not add  BTG\n",
      "20 full! Do not add  DGB\n",
      "20 full! Do not add  SC\n",
      "20 full! Do not add  KMD\n"
     ]
    }
   ],
   "source": [
    "#create twenty index membership\n",
    "twenty_auto = universe[universe['Rank'] <= 26]\n",
    "for t in twenty_auto.index:\n",
    "    if t in indexes_new_tickers['10'].index:\n",
    "        twenty_auto = twenty_auto.drop(t)\n",
    "#remove all rows in indexes_new_tickers['10']\n",
    "indexes_new_tickers['20'] = pd.DataFrame()\n",
    "indexes_new_tickers['20'] = twenty_auto\n",
    "twenty_band = universe[universe['Rank'] <= 34]\n",
    "twenty_band = twenty_band[twenty_band['Rank'] > 26]\n",
    "count_twenty_members = len(twenty_auto)\n",
    "for t in twenty_band.index:\n",
    "    if t in indexes_old['20'].index:\n",
    "        if count_twenty_members < 20:\n",
    "            indexes_new_tickers['20'] = indexes_new_tickers['20'].append(twenty_band.loc[t])\n",
    "            count_twenty_members += 1\n",
    "            print ('Retained' , t)\n",
    "        else:\n",
    "            print ('20 full! No room for' , t)\n",
    "for t in twenty_band.index:\n",
    "    if t not in indexes_old['20'].index:\n",
    "        if count_twenty_members < 20:\n",
    "            print ('New add' , t)\n",
    "            indexes_new_tickers['20'] = indexes_new_tickers['20'].append(twenty_band.loc[t])\n",
    "            count_twenty_members += 1\n",
    "        else:\n",
    "            print ('20 full! Do not add ' , t)"
   ]
  },
  {
   "cell_type": "code",
   "execution_count": 32,
   "metadata": {},
   "outputs": [
    {
     "name": "stdout",
     "output_type": "stream",
     "text": [
      "Retained WAN\n",
      "Retained ELF\n",
      "Retained PIVX\n",
      "Retained WTC\n",
      "Retained NAS\n",
      "New add FUN\n",
      "New add AION\n",
      "New add CVC\n",
      "New add RCN\n",
      "New add KNC\n",
      "40 full! Do not add  STRAT\n",
      "40 full! Do not add  LRC\n",
      "40 full! Do not add  RDD\n",
      "40 full! Do not add  MANA\n",
      "40 full! Do not add  DGD\n",
      "40 full! Do not add  MET\n",
      "40 full! Do not add  POLY\n",
      "40 full! Do not add  PAY\n",
      "40 full! Do not add  ENG\n",
      "40 full! Do not add  BNT\n"
     ]
    }
   ],
   "source": [
    "#create forty index membership\n",
    "forty_auto = universe[universe['Rank'] <= 60]\n",
    "for t in forty_auto.index:\n",
    "    if t in indexes_new_tickers['10'].index:\n",
    "        forty_auto = forty_auto.drop(t)\n",
    "    if t in indexes_new_tickers['20'].index:\n",
    "        forty_auto = forty_auto.drop(t)\n",
    "indexes_new_tickers['40'] = pd.DataFrame()\n",
    "indexes_new_tickers['40'] = forty_auto\n",
    "forty_band = universe[universe['Rank'] <= 80]\n",
    "forty_band = forty_band[forty_band['Rank'] > 60]\n",
    "count_forty_members = len(forty_auto)\n",
    "for t in forty_band.index:\n",
    "    if t in indexes_old['40'].index:\n",
    "        if count_forty_members < 40:\n",
    "            indexes_new_tickers['40'] = indexes_new_tickers['40'].append(forty_band.loc[t])\n",
    "            count_forty_members += 1\n",
    "            print ('Retained' , t)\n",
    "        else:\n",
    "            print ('40 full! No room for' , t)\n",
    "for t in forty_band.index:\n",
    "    if t not in indexes_old['40'].index:\n",
    "        if count_forty_members < 40:\n",
    "            indexes_new_tickers['40'] = indexes_new_tickers['40'].append(forty_band.loc[t])\n",
    "            count_forty_members += 1\n",
    "            print ('New add' , t)\n",
    "        else:\n",
    "            print ('40 full! Do not add ' , t)"
   ]
  },
  {
   "cell_type": "code",
   "execution_count": 33,
   "metadata": {
    "collapsed": true
   },
   "outputs": [],
   "source": [
    "#construct total index from 10 + 20 + 40\n",
    "indexes_new_tickers['Total'] = indexes_new_tickers['10'].append(indexes_new_tickers['20']).append(indexes_new_tickers['40'])"
   ]
  },
  {
   "cell_type": "code",
   "execution_count": 34,
   "metadata": {
    "collapsed": true
   },
   "outputs": [],
   "source": [
    "#construct various sector indexes from total index\n",
    "indexes_new_tickers['ETH'] = indexes_new_tickers['Total'][indexes_new_tickers['Total']['ERC20'] == 1]\n",
    "indexes_new_tickers['Currency'] = indexes_new_tickers['Total'][indexes_new_tickers['Total']['Class'] == 1]\n",
    "indexes_new_tickers['Platform'] = indexes_new_tickers['Total'][indexes_new_tickers['Total']['Class'] == 2]\n",
    "indexes_new_tickers['Application'] = indexes_new_tickers['Total'][indexes_new_tickers['Total']['Class'] == 3]"
   ]
  },
  {
   "cell_type": "code",
   "execution_count": 35,
   "metadata": {},
   "outputs": [
    {
     "name": "stdout",
     "output_type": "stream",
     "text": [
      "Total adds ['AION' 'CVC' 'FUN' 'KNC' 'RCN']\n",
      "Total deletes ['GNO' 'MANA' 'POWR' 'QKC' 'WAX']\n",
      "Total count members: 70\n",
      "\n",
      "40 adds ['AION' 'CVC' 'FUN' 'KNC' 'MAID' 'RCN']\n",
      "40 deletes ['GNO' 'POWR' 'QKC' 'QTUM' 'WAX' 'ZRX']\n",
      "40 count members: 40\n",
      "\n",
      "20 adds ['QTUM' 'ZRX']\n",
      "20 deletes ['MAID' 'MANA']\n",
      "20 count members: 20\n",
      "\n",
      "Application adds ['CVC' 'FUN' 'KNC' 'RCN']\n",
      "Application deletes ['GNO' 'MANA' 'WAX']\n",
      "Application count members: 24\n",
      "\n",
      "Currency adds []\n",
      "Currency deletes []\n",
      "Currency count members: 19\n",
      "\n",
      "Platform adds ['AION']\n",
      "Platform deletes ['POWR' 'QKC']\n",
      "Platform count members: 27\n",
      "\n",
      "ETH adds ['AION' 'CVC' 'FUN' 'KNC']\n",
      "ETH deletes ['GNO' 'MANA' 'POWR' 'WAX']\n",
      "ETH count members: 20\n",
      "\n",
      "10 adds []\n",
      "10 deletes []\n",
      "10 count members: 10\n",
      "\n",
      "Sector count members: 70\n"
     ]
    }
   ],
   "source": [
    "#print out membership changes for checking and blog\n",
    "for k in indexes_old:\n",
    "    print (k , 'adds' , indexes_new_tickers[k].index.difference(indexes_old[k].index).values)\n",
    "    print (k , 'deletes' , indexes_old[k].index.difference(indexes_new_tickers[k].index).values)\n",
    "    print (k , 'count members:' , len(indexes_new_tickers[k]))\n",
    "    if indexes_new_tickers[k].index.duplicated(keep='first').any() == True:\n",
    "        print ('Duplicates if True' , indexes_new_tickers[k].index.duplicated(keep='first'))\n",
    "    print (\"\")\n",
    "sectors = len(indexes_new_tickers['Currency'])+len(indexes_new_tickers['Platform'])+len(indexes_new_tickers['Application'])\n",
    "print ('Sector count members:' , sectors)"
   ]
  },
  {
   "cell_type": "code",
   "execution_count": 37,
   "metadata": {
    "collapsed": true
   },
   "outputs": [],
   "source": [
    "#write off new index memberships for use in rebalance\n",
    "for k in indexes_new_tickers:\n",
    "    if 'MIOTA' in indexes_new_tickers[k].index:\n",
    "        indexes_new_tickers[k] = indexes_new_tickers[k].rename({'MIOTA' : 'IOT'})\n",
    "    indexes_new_tickers[k].to_csv('C:/Users/stoin/Desktop/Mike/Bletch/bcindex/index-data/src/main/resources/business_rules/'+k+'_pre_'+new_month+'.csv',columns=['Float'])"
   ]
  },
  {
   "cell_type": "code",
   "execution_count": null,
   "metadata": {
    "collapsed": true
   },
   "outputs": [],
   "source": []
  }
 ],
 "metadata": {
  "kernelspec": {
   "display_name": "Python 3",
   "language": "python",
   "name": "python3"
  },
  "language_info": {
   "codemirror_mode": {
    "name": "ipython",
    "version": 3
   },
   "file_extension": ".py",
   "mimetype": "text/x-python",
   "name": "python",
   "nbconvert_exporter": "python",
   "pygments_lexer": "ipython3",
   "version": "3.5.3"
  }
 },
 "nbformat": 4,
 "nbformat_minor": 2
}
