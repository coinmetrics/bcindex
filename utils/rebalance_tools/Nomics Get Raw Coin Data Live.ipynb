{
 "cells": [
  {
   "cell_type": "code",
   "execution_count": 2,
   "metadata": {
    "collapsed": true
   },
   "outputs": [],
   "source": [
    "import json\n",
    "import requests\n",
    "import datetime\n",
    "import pandas as pd\n",
    "import urllib.request\n",
    "import codecs"
   ]
  },
  {
   "cell_type": "code",
   "execution_count": 11,
   "metadata": {
    "collapsed": true
   },
   "outputs": [],
   "source": [
    "coins = ['BTC' , 'ETH' , 'XRP' , 'XLM' , 'LTC' , 'BCH' , 'DASH' , 'EOS' , 'ADA' , 'ETC' , 'HC' , 'IOT']"
   ]
  },
  {
   "cell_type": "code",
   "execution_count": 12,
   "metadata": {
    "collapsed": true
   },
   "outputs": [],
   "source": [
    "url = \"https://api.nomics.com/v1/prices?key=8ab88c64570680aeb728a3109e69dd96\"\n",
    "#page = (urllib.request.urlopen(url).read())\n",
    "response = (urllib.request.urlopen(url).read())\n",
    "response = response.decode('utf-8')\n",
    "d = json.loads(response)\n",
    "df = pd.DataFrame(d)\n",
    "df = df.set_index('currency')\n",
    "df['Price'] = pd.to_numeric(df['price'])"
   ]
  },
  {
   "cell_type": "code",
   "execution_count": 13,
   "metadata": {
    "collapsed": true
   },
   "outputs": [],
   "source": [
    "url = \"https://api.nomics.com/v1/prices?key=8ab88c64570680aeb728a3109e69dd96\"\n",
    "#page = (urllib.request.urlopen(url).read())\n",
    "response1 = (urllib.request.urlopen(url).read().decode('utf-8'))\n",
    "d = json.loads(response1)\n",
    "df = pd.DataFrame(d)\n",
    "df = df.set_index('currency')\n",
    "df['Price'] = pd.to_numeric(df['price'])"
   ]
  },
  {
   "cell_type": "code",
   "execution_count": 14,
   "metadata": {},
   "outputs": [
    {
     "data": {
      "text/html": [
       "<div>\n",
       "<style>\n",
       "    .dataframe thead tr:only-child th {\n",
       "        text-align: right;\n",
       "    }\n",
       "\n",
       "    .dataframe thead th {\n",
       "        text-align: left;\n",
       "    }\n",
       "\n",
       "    .dataframe tbody tr th {\n",
       "        vertical-align: top;\n",
       "    }\n",
       "</style>\n",
       "<table border=\"1\" class=\"dataframe\">\n",
       "  <thead>\n",
       "    <tr style=\"text-align: right;\">\n",
       "      <th></th>\n",
       "      <th>Price</th>\n",
       "      <th>BTC Price</th>\n",
       "    </tr>\n",
       "  </thead>\n",
       "  <tbody>\n",
       "    <tr>\n",
       "      <th>BTC</th>\n",
       "      <td>3789.89</td>\n",
       "      <td>1</td>\n",
       "    </tr>\n",
       "    <tr>\n",
       "      <th>ETH</th>\n",
       "      <td>129.291</td>\n",
       "      <td>0.0341148</td>\n",
       "    </tr>\n",
       "    <tr>\n",
       "      <th>XRP</th>\n",
       "      <td>0.37194</td>\n",
       "      <td>9.814e-05</td>\n",
       "    </tr>\n",
       "    <tr>\n",
       "      <th>XLM</th>\n",
       "      <td>0.11769</td>\n",
       "      <td>3.10536e-05</td>\n",
       "    </tr>\n",
       "    <tr>\n",
       "      <th>LTC</th>\n",
       "      <td>30.2227</td>\n",
       "      <td>0.00797454</td>\n",
       "    </tr>\n",
       "    <tr>\n",
       "      <th>BCH</th>\n",
       "      <td>169.201</td>\n",
       "      <td>0.0446454</td>\n",
       "    </tr>\n",
       "    <tr>\n",
       "      <th>DASH</th>\n",
       "      <td>82.2123</td>\n",
       "      <td>0.0216925</td>\n",
       "    </tr>\n",
       "    <tr>\n",
       "      <th>EOS</th>\n",
       "      <td>2.56049</td>\n",
       "      <td>0.00067561</td>\n",
       "    </tr>\n",
       "    <tr>\n",
       "      <th>ADA</th>\n",
       "      <td>0.04021</td>\n",
       "      <td>1.06098e-05</td>\n",
       "    </tr>\n",
       "    <tr>\n",
       "      <th>ETC</th>\n",
       "      <td>5.50578</td>\n",
       "      <td>0.00145275</td>\n",
       "    </tr>\n",
       "    <tr>\n",
       "      <th>HC</th>\n",
       "      <td>0.84811</td>\n",
       "      <td>0.000223782</td>\n",
       "    </tr>\n",
       "    <tr>\n",
       "      <th>IOT</th>\n",
       "      <td>0.32853</td>\n",
       "      <td>8.66858e-05</td>\n",
       "    </tr>\n",
       "  </tbody>\n",
       "</table>\n",
       "</div>"
      ],
      "text/plain": [
       "        Price    BTC Price\n",
       "BTC   3789.89            1\n",
       "ETH   129.291    0.0341148\n",
       "XRP   0.37194    9.814e-05\n",
       "XLM   0.11769  3.10536e-05\n",
       "LTC   30.2227   0.00797454\n",
       "BCH   169.201    0.0446454\n",
       "DASH  82.2123    0.0216925\n",
       "EOS   2.56049   0.00067561\n",
       "ADA   0.04021  1.06098e-05\n",
       "ETC   5.50578   0.00145275\n",
       "HC    0.84811  0.000223782\n",
       "IOT   0.32853  8.66858e-05"
      ]
     },
     "execution_count": 14,
     "metadata": {},
     "output_type": "execute_result"
    }
   ],
   "source": [
    "all_data = pd.DataFrame(index=coins,columns=['Price'])\n",
    "for t in coins:\n",
    "    a = df.loc[t]['Price']\n",
    "    all_data.loc[t]['Price'] = a\n",
    "all_data['BTC Price'] = all_data['Price'] / all_data.loc['BTC',('Price')]\n",
    "all_data"
   ]
  },
  {
   "cell_type": "code",
   "execution_count": null,
   "metadata": {
    "collapsed": true
   },
   "outputs": [],
   "source": []
  },
  {
   "cell_type": "code",
   "execution_count": null,
   "metadata": {
    "collapsed": true
   },
   "outputs": [],
   "source": []
  }
 ],
 "metadata": {
  "kernelspec": {
   "display_name": "Python 3",
   "language": "python",
   "name": "python3"
  },
  "language_info": {
   "codemirror_mode": {
    "name": "ipython",
    "version": 3
   },
   "file_extension": ".py",
   "mimetype": "text/x-python",
   "name": "python",
   "nbconvert_exporter": "python",
   "pygments_lexer": "ipython3",
   "version": "3.5.3"
  }
 },
 "nbformat": 4,
 "nbformat_minor": 2
}
