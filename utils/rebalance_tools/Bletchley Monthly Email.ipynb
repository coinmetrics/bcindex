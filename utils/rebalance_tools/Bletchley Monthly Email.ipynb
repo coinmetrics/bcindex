{
 "cells": [
  {
   "cell_type": "code",
   "execution_count": 1,
   "metadata": {
    "collapsed": true
   },
   "outputs": [],
   "source": [
    "import datetime as datetime\n",
    "import pandas as pd\n",
    "import math\n",
    "import re\n",
    "import matplotlib\n",
    "import matplotlib.pyplot as plt\n",
    "import numpy as np\n",
    "import pyodbc\n",
    "import requests\n",
    "\n",
    "short_start = \"2019-1-01\"\n",
    "med_start = \"2018-10-01\"\n",
    "long_start = \"2018-01-01\"\n",
    "short_end = \"2019-2-01\"\n",
    "med_end = \"2019-2-01\"\n",
    "long_end = \"2019-2-01\"\n",
    "\n",
    "drop_list = ['XRP' , 'XLM' , 'BCH' , 'LTC' , 'ADA' , 'DASH' , 'EOS' , 'ZEC']\n",
    "long_drop = ['currency' , 'platform' , 'application']\n",
    "\n",
    "tfs = ['short' , 'med' , 'long']\n",
    "\n",
    "df_all = dict.fromkeys(tfs)\n",
    "df_benchmarks = dict.fromkeys(tfs)\n",
    "returns_all = dict.fromkeys(tfs)\n",
    "returns_benchmarks = dict.fromkeys(tfs)\n",
    "results = dict.fromkeys(tfs)\n",
    "vol = dict.fromkeys(tfs)\n",
    "net_return = dict.fromkeys(tfs)\n",
    "vol = dict.fromkeys(tfs)\n",
    "ann_factor = dict.fromkeys(tfs)\n",
    "total_return = dict.fromkeys(tfs)\n",
    "percent_sd = dict.fromkeys(tfs)\n",
    "summary = dict.fromkeys(tfs)\n",
    "corr = dict.fromkeys(tfs)\n",
    "betas = dict.fromkeys(tfs)\n",
    "beta_results = dict.fromkeys(tfs)\n",
    "total_return_excel = dict.fromkeys(tfs)\n",
    "sortino_df = dict.fromkeys(tfs)\n",
    "sortino = dict.fromkeys(tfs)\n",
    "average_return = dict.fromkeys(tfs)\n",
    "\n",
    "data_bletchley = pd.read_excel('C:/Users\\stoin\\Desktop\\Mike\\Jupyter\\Data\\\\bletchley_history.xlsx' , index_col= 0)\n",
    "data_coins = pd.read_excel('C:/Users\\stoin\\Desktop\\Mike\\Jupyter\\Data\\coins_history_bletchley.xlsx' , index_col=0)\n",
    "data_bletchley['ERC20'] = data_bletchley['ethereum']\n",
    "data_bletchley = data_bletchley.drop('ethereum' , axis=1)\n",
    "data_bletch = data_bletchley"
   ]
  },
  {
   "cell_type": "code",
   "execution_count": 2,
   "metadata": {
    "collapsed": true
   },
   "outputs": [],
   "source": [
    "data_finance = data_bletch.fillna(method='ffill')\n",
    "data_finance = data_finance.dropna()\n",
    "index_data = data_finance\n",
    "data_coins = data_coins.fillna(method='ffill')\n",
    "data_coins = data_coins.dropna()\n",
    "\n",
    "index_data.index = (pd.to_datetime(index_data.index.values,unit='ms'))\n",
    "index_data.index = index_data.index.round('d')\n",
    "df = index_data.join(data_coins, how='inner')\n",
    "\n",
    "returns = df.pct_change()\n",
    "returns = returns.dropna()"
   ]
  },
  {
   "cell_type": "code",
   "execution_count": 3,
   "metadata": {
    "collapsed": true
   },
   "outputs": [],
   "source": [
    "#filter master dataframes based on date ranges\n",
    "returns_all['short'] = returns.loc[short_start:short_end]\n",
    "returns_benchmarks['short'] = returns.loc[short_start:short_end]\n",
    "df_all['short'] = df.loc[short_start:short_end]\n",
    "df_benchmarks['short'] = df.loc[short_start:short_end]\n",
    "\n",
    "returns_all['med'] = returns.loc[med_start:med_end]\n",
    "returns_benchmarks['med'] = returns.loc[med_start:med_end]\n",
    "df_all['med'] = df.loc[med_start:med_end]\n",
    "df_benchmarks['med'] = df.loc[med_start:med_end]\n",
    "\n",
    "returns_all['long'] = returns.loc[long_start:long_end]\n",
    "returns_benchmarks['long'] = returns.loc[long_start:long_end]\n",
    "df_all['long'] = df.loc[long_start:long_end]\n",
    "df_benchmarks['long'] = df.loc[long_start:long_end]\n",
    "\n",
    "#drop coins that aren't benchmarks\n",
    "for c in drop_list:\n",
    "    for t in tfs:\n",
    "        returns_benchmarks[t] = returns_benchmarks[t].drop([c] , axis=1)\n",
    "        df_benchmarks[t] = df_benchmarks[t].drop([c] , axis=1)"
   ]
  },
  {
   "cell_type": "code",
   "execution_count": 4,
   "metadata": {},
   "outputs": [
    {
     "data": {
      "text/html": [
       "<div>\n",
       "<style>\n",
       "    .dataframe thead tr:only-child th {\n",
       "        text-align: right;\n",
       "    }\n",
       "\n",
       "    .dataframe thead th {\n",
       "        text-align: left;\n",
       "    }\n",
       "\n",
       "    .dataframe tbody tr th {\n",
       "        vertical-align: top;\n",
       "    }\n",
       "</style>\n",
       "<table border=\"1\" class=\"dataframe\">\n",
       "  <thead>\n",
       "    <tr style=\"text-align: right;\">\n",
       "      <th></th>\n",
       "      <th>ten</th>\n",
       "      <th>twenty</th>\n",
       "      <th>forty</th>\n",
       "      <th>total</th>\n",
       "      <th>currency</th>\n",
       "      <th>platform</th>\n",
       "      <th>application</th>\n",
       "      <th>ERC20</th>\n",
       "      <th>BTC</th>\n",
       "      <th>ETH</th>\n",
       "    </tr>\n",
       "  </thead>\n",
       "  <tbody>\n",
       "    <tr>\n",
       "      <th>2019-01-01</th>\n",
       "      <td>-0.046381</td>\n",
       "      <td>-0.0508</td>\n",
       "      <td>-0.056148</td>\n",
       "      <td>-0.046939</td>\n",
       "      <td>-0.042739</td>\n",
       "      <td>-0.057864</td>\n",
       "      <td>-0.040122</td>\n",
       "      <td>-0.046808</td>\n",
       "      <td>-0.034593</td>\n",
       "      <td>-0.039027</td>\n",
       "    </tr>\n",
       "  </tbody>\n",
       "</table>\n",
       "</div>"
      ],
      "text/plain": [
       "                 ten  twenty     forty     total  currency  platform  \\\n",
       "2019-01-01 -0.046381 -0.0508 -0.056148 -0.046939 -0.042739 -0.057864   \n",
       "\n",
       "            application     ERC20       BTC       ETH  \n",
       "2019-01-01    -0.040122 -0.046808 -0.034593 -0.039027  "
      ]
     },
     "execution_count": 4,
     "metadata": {},
     "output_type": "execute_result"
    }
   ],
   "source": [
    "returns_benchmarks['short'].tail()"
   ]
  },
  {
   "cell_type": "code",
   "execution_count": 5,
   "metadata": {
    "collapsed": true
   },
   "outputs": [],
   "source": [
    "#drop sectors that don't have data back to 1/1/2018\n",
    "for i in long_drop:\n",
    "    df_benchmarks['long'] = df_benchmarks['long'].drop([i] , axis=1)\n",
    "    returns_benchmarks['long'] = returns_benchmarks['long'].drop([i] , axis=1)"
   ]
  },
  {
   "cell_type": "code",
   "execution_count": 6,
   "metadata": {
    "collapsed": true
   },
   "outputs": [],
   "source": [
    "#calculate sortino to btc\n",
    "for t in tfs:\n",
    "    sortino_df[t] = pd.DataFrame()\n",
    "    sortino[t] = pd.DataFrame(index = ['sortino'])\n",
    "    for col in returns_benchmarks[t]:\n",
    "        sortino_df[t][col] = returns_benchmarks[t][col] - returns_benchmarks[t]['BTC']\n",
    "        avg_ret = np.mean(sortino_df[t][col])\n",
    "        a = [r ** 2 for r in sortino_df[t][col] if r < 0]\n",
    "        a_sum = np.sum(a)\n",
    "        b = len(sortino_df[t][col])\n",
    "        down_risk = np.sqrt(a_sum/b)\n",
    "        if down_risk > 0.000001:\n",
    "            sortino[t][col] = (avg_ret / down_risk)*math.sqrt(365)\n",
    "        else:\n",
    "            sortino[t][col] = 0"
   ]
  },
  {
   "cell_type": "code",
   "execution_count": 7,
   "metadata": {},
   "outputs": [
    {
     "data": {
      "text/html": [
       "<div>\n",
       "<style>\n",
       "    .dataframe thead tr:only-child th {\n",
       "        text-align: right;\n",
       "    }\n",
       "\n",
       "    .dataframe thead th {\n",
       "        text-align: left;\n",
       "    }\n",
       "\n",
       "    .dataframe tbody tr th {\n",
       "        vertical-align: top;\n",
       "    }\n",
       "</style>\n",
       "<table border=\"1\" class=\"dataframe\">\n",
       "  <thead>\n",
       "    <tr style=\"text-align: right;\">\n",
       "      <th></th>\n",
       "      <th>ten</th>\n",
       "      <th>twenty</th>\n",
       "      <th>forty</th>\n",
       "      <th>total</th>\n",
       "      <th>currency</th>\n",
       "      <th>platform</th>\n",
       "      <th>application</th>\n",
       "      <th>ERC20</th>\n",
       "      <th>BTC</th>\n",
       "      <th>ETH</th>\n",
       "    </tr>\n",
       "  </thead>\n",
       "  <tbody>\n",
       "    <tr>\n",
       "      <th>2019-01-01</th>\n",
       "      <td>-0.046381</td>\n",
       "      <td>-0.0508</td>\n",
       "      <td>-0.056148</td>\n",
       "      <td>-0.046939</td>\n",
       "      <td>-0.042739</td>\n",
       "      <td>-0.057864</td>\n",
       "      <td>-0.040122</td>\n",
       "      <td>-0.046808</td>\n",
       "      <td>-0.034593</td>\n",
       "      <td>-0.039027</td>\n",
       "    </tr>\n",
       "  </tbody>\n",
       "</table>\n",
       "</div>"
      ],
      "text/plain": [
       "                 ten  twenty     forty     total  currency  platform  \\\n",
       "2019-01-01 -0.046381 -0.0508 -0.056148 -0.046939 -0.042739 -0.057864   \n",
       "\n",
       "            application     ERC20       BTC       ETH  \n",
       "2019-01-01    -0.040122 -0.046808 -0.034593 -0.039027  "
      ]
     },
     "execution_count": 7,
     "metadata": {},
     "output_type": "execute_result"
    }
   ],
   "source": [
    "returns_benchmarks['short'].tail()"
   ]
  },
  {
   "cell_type": "code",
   "execution_count": 8,
   "metadata": {
    "collapsed": true
   },
   "outputs": [],
   "source": [
    "data_coins_week = data_coins.loc[short_start:short_end]\n",
    "#data_coins_week = data_coins_week[:]\n",
    "net_week_return = data_coins_week.pct_change(len(data_coins_week)-1)\n",
    "ann_week_factor = 365.000/(len(data_coins_week))\n",
    "data_coins_week_returns = pd.DataFrame()\n",
    "data_coins_week_returns = data_coins_week.pct_change()\n",
    "data_coins_week_returns = data_coins_week_returns.dropna()\n",
    "total_week_return = net_week_return.tail(1)*100\n",
    "data_coins_week = data_coins_week.append(total_week_return)\n",
    "data_coins_week.index = data_coins_week.index[:-1].append(pd.Index(['return']))"
   ]
  },
  {
   "cell_type": "code",
   "execution_count": 9,
   "metadata": {},
   "outputs": [
    {
     "data": {
      "text/html": [
       "<div>\n",
       "<style>\n",
       "    .dataframe thead tr:only-child th {\n",
       "        text-align: right;\n",
       "    }\n",
       "\n",
       "    .dataframe thead th {\n",
       "        text-align: left;\n",
       "    }\n",
       "\n",
       "    .dataframe tbody tr th {\n",
       "        vertical-align: top;\n",
       "    }\n",
       "</style>\n",
       "<table border=\"1\" class=\"dataframe\">\n",
       "  <thead>\n",
       "    <tr style=\"text-align: right;\">\n",
       "      <th></th>\n",
       "      <th>ten</th>\n",
       "      <th>twenty</th>\n",
       "      <th>forty</th>\n",
       "      <th>total</th>\n",
       "      <th>currency</th>\n",
       "      <th>platform</th>\n",
       "      <th>application</th>\n",
       "      <th>ERC20</th>\n",
       "      <th>BTC</th>\n",
       "      <th>ETH</th>\n",
       "    </tr>\n",
       "  </thead>\n",
       "  <tbody>\n",
       "    <tr>\n",
       "      <th>2019-01-01</th>\n",
       "      <td>-0.046381</td>\n",
       "      <td>-0.0508</td>\n",
       "      <td>-0.056148</td>\n",
       "      <td>-0.046939</td>\n",
       "      <td>-0.042739</td>\n",
       "      <td>-0.057864</td>\n",
       "      <td>-0.040122</td>\n",
       "      <td>-0.046808</td>\n",
       "      <td>-0.034593</td>\n",
       "      <td>-0.039027</td>\n",
       "    </tr>\n",
       "  </tbody>\n",
       "</table>\n",
       "</div>"
      ],
      "text/plain": [
       "                 ten  twenty     forty     total  currency  platform  \\\n",
       "2019-01-01 -0.046381 -0.0508 -0.056148 -0.046939 -0.042739 -0.057864   \n",
       "\n",
       "            application     ERC20       BTC       ETH  \n",
       "2019-01-01    -0.040122 -0.046808 -0.034593 -0.039027  "
      ]
     },
     "execution_count": 9,
     "metadata": {},
     "output_type": "execute_result"
    }
   ],
   "source": [
    "returns_benchmarks['short']"
   ]
  },
  {
   "cell_type": "code",
   "execution_count": 10,
   "metadata": {},
   "outputs": [
    {
     "name": "stdout",
     "output_type": "stream",
     "text": [
      "short start:  2019-01-01 00:00:00\n",
      "medium start:  2018-10-01 00:00:00\n",
      "long start:  2018-01-01 00:00:00\n"
     ]
    },
    {
     "ename": "IndexError",
     "evalue": "index -2 is out of bounds for axis 0 with size 1",
     "output_type": "error",
     "traceback": [
      "\u001b[1;31m---------------------------------------------------------------------------\u001b[0m",
      "\u001b[1;31mIndexError\u001b[0m                                Traceback (most recent call last)",
      "\u001b[1;32m<ipython-input-10-b2cdd694ad98>\u001b[0m in \u001b[0;36m<module>\u001b[1;34m()\u001b[0m\n\u001b[0;32m      2\u001b[0m \u001b[0mprint\u001b[0m \u001b[1;33m(\u001b[0m\u001b[1;34m'medium start: '\u001b[0m\u001b[1;33m,\u001b[0m \u001b[0mreturns_benchmarks\u001b[0m\u001b[1;33m[\u001b[0m\u001b[1;34m'med'\u001b[0m\u001b[1;33m]\u001b[0m\u001b[1;33m.\u001b[0m\u001b[0mindex\u001b[0m\u001b[1;33m[\u001b[0m\u001b[1;36m0\u001b[0m\u001b[1;33m]\u001b[0m\u001b[1;33m)\u001b[0m\u001b[1;33m\u001b[0m\u001b[0m\n\u001b[0;32m      3\u001b[0m \u001b[0mprint\u001b[0m \u001b[1;33m(\u001b[0m\u001b[1;34m'long start: '\u001b[0m\u001b[1;33m,\u001b[0m \u001b[0mreturns_benchmarks\u001b[0m\u001b[1;33m[\u001b[0m\u001b[1;34m'long'\u001b[0m\u001b[1;33m]\u001b[0m\u001b[1;33m.\u001b[0m\u001b[0mindex\u001b[0m\u001b[1;33m[\u001b[0m\u001b[1;36m0\u001b[0m\u001b[1;33m]\u001b[0m\u001b[1;33m)\u001b[0m\u001b[1;33m\u001b[0m\u001b[0m\n\u001b[1;32m----> 4\u001b[1;33m \u001b[0mprint\u001b[0m \u001b[1;33m(\u001b[0m\u001b[1;34m'end: '\u001b[0m\u001b[1;33m,\u001b[0m \u001b[0mreturns_benchmarks\u001b[0m\u001b[1;33m[\u001b[0m\u001b[1;34m'short'\u001b[0m\u001b[1;33m]\u001b[0m\u001b[1;33m.\u001b[0m\u001b[0mindex\u001b[0m\u001b[1;33m[\u001b[0m\u001b[1;33m-\u001b[0m\u001b[1;36m2\u001b[0m\u001b[1;33m]\u001b[0m\u001b[1;33m)\u001b[0m\u001b[1;33m\u001b[0m\u001b[0m\n\u001b[0m\u001b[0;32m      5\u001b[0m \u001b[0mprint\u001b[0m \u001b[1;33m(\u001b[0m\u001b[1;34m'end: '\u001b[0m\u001b[1;33m,\u001b[0m \u001b[0mreturns_benchmarks\u001b[0m\u001b[1;33m[\u001b[0m\u001b[1;34m'med'\u001b[0m\u001b[1;33m]\u001b[0m\u001b[1;33m.\u001b[0m\u001b[0mindex\u001b[0m\u001b[1;33m[\u001b[0m\u001b[1;33m-\u001b[0m\u001b[1;36m2\u001b[0m\u001b[1;33m]\u001b[0m\u001b[1;33m)\u001b[0m\u001b[1;33m\u001b[0m\u001b[0m\n\u001b[0;32m      6\u001b[0m \u001b[0mprint\u001b[0m \u001b[1;33m(\u001b[0m\u001b[1;34m'end: '\u001b[0m\u001b[1;33m,\u001b[0m \u001b[0mreturns_benchmarks\u001b[0m\u001b[1;33m[\u001b[0m\u001b[1;34m'long'\u001b[0m\u001b[1;33m]\u001b[0m\u001b[1;33m.\u001b[0m\u001b[0mindex\u001b[0m\u001b[1;33m[\u001b[0m\u001b[1;33m-\u001b[0m\u001b[1;36m2\u001b[0m\u001b[1;33m]\u001b[0m\u001b[1;33m)\u001b[0m\u001b[1;33m\u001b[0m\u001b[0m\n",
      "\u001b[1;32mC:\\Users\\stoin\\Anaconda2\\envs\\py35\\lib\\site-packages\\pandas\\core\\indexes\\datetimelike.py\u001b[0m in \u001b[0;36m__getitem__\u001b[1;34m(self, key)\u001b[0m\n\u001b[0;32m    269\u001b[0m         \u001b[0mgetitem\u001b[0m \u001b[1;33m=\u001b[0m \u001b[0mself\u001b[0m\u001b[1;33m.\u001b[0m\u001b[0m_data\u001b[0m\u001b[1;33m.\u001b[0m\u001b[0m__getitem__\u001b[0m\u001b[1;33m\u001b[0m\u001b[0m\n\u001b[0;32m    270\u001b[0m         \u001b[1;32mif\u001b[0m \u001b[0mis_int\u001b[0m\u001b[1;33m:\u001b[0m\u001b[1;33m\u001b[0m\u001b[0m\n\u001b[1;32m--> 271\u001b[1;33m             \u001b[0mval\u001b[0m \u001b[1;33m=\u001b[0m \u001b[0mgetitem\u001b[0m\u001b[1;33m(\u001b[0m\u001b[0mkey\u001b[0m\u001b[1;33m)\u001b[0m\u001b[1;33m\u001b[0m\u001b[0m\n\u001b[0m\u001b[0;32m    272\u001b[0m             \u001b[1;32mreturn\u001b[0m \u001b[0mself\u001b[0m\u001b[1;33m.\u001b[0m\u001b[0m_box_func\u001b[0m\u001b[1;33m(\u001b[0m\u001b[0mval\u001b[0m\u001b[1;33m)\u001b[0m\u001b[1;33m\u001b[0m\u001b[0m\n\u001b[0;32m    273\u001b[0m         \u001b[1;32melse\u001b[0m\u001b[1;33m:\u001b[0m\u001b[1;33m\u001b[0m\u001b[0m\n",
      "\u001b[1;31mIndexError\u001b[0m: index -2 is out of bounds for axis 0 with size 1"
     ]
    }
   ],
   "source": [
    "print ('short start: ', returns_benchmarks['short'].index[0])\n",
    "print ('medium start: ', returns_benchmarks['med'].index[0])\n",
    "print ('long start: ', returns_benchmarks['long'].index[0])\n",
    "print ('end: ', returns_benchmarks['short'].index[-2])\n",
    "print ('end: ', returns_benchmarks['med'].index[-2])\n",
    "print ('end: ', returns_benchmarks['long'].index[-2])"
   ]
  },
  {
   "cell_type": "code",
   "execution_count": null,
   "metadata": {},
   "outputs": [],
   "source": [
    "returns_benchmarks['short'].tail()"
   ]
  },
  {
   "cell_type": "code",
   "execution_count": null,
   "metadata": {},
   "outputs": [],
   "source": [
    "print (data_coins_week.head(n=1))\n",
    "data_coins_week.tail(n=2)"
   ]
  },
  {
   "cell_type": "code",
   "execution_count": null,
   "metadata": {
    "collapsed": true
   },
   "outputs": [],
   "source": [
    "annualize = math.sqrt(365)\n",
    "for t in tfs:\n",
    "    results[t] = returns_benchmarks[t].describe()\n",
    "    vol[t] = pd.DataFrame()\n",
    "    vol[t] = results[t].loc['std']*annualize*100\n",
    "    vol[t].name = 'annualized volatility'\n",
    "    results[t] = results[t].append(df_benchmarks[t].iloc[0])\n",
    "    results[t].index = results[t].index[:-1].append(pd.Index(['open price']))\n",
    "    results[t] = results[t].append(df_benchmarks[t][-1:])\n",
    "    results[t].index = results[t].index[:-1].append(pd.Index(['last price']))\n",
    "    results[t] = results[t].append(vol[t])"
   ]
  },
  {
   "cell_type": "code",
   "execution_count": null,
   "metadata": {},
   "outputs": [],
   "source": [
    "returns_benchmarks['short'].tail()"
   ]
  },
  {
   "cell_type": "code",
   "execution_count": null,
   "metadata": {
    "collapsed": true
   },
   "outputs": [],
   "source": [
    "for t in tfs:\n",
    "    average_return[t] = pd.DataFrame()\n",
    "    average_return[t] = returns_benchmarks[t]\n",
    "    average_return[t].loc['mean'] = returns_benchmarks[t].mean(axis=0)\n",
    "    returns_benchmarks[t] = returns_benchmarks[t][:-1]"
   ]
  },
  {
   "cell_type": "code",
   "execution_count": null,
   "metadata": {},
   "outputs": [],
   "source": [
    "returns_benchmarks['short'].tail()"
   ]
  },
  {
   "cell_type": "code",
   "execution_count": null,
   "metadata": {
    "collapsed": true
   },
   "outputs": [],
   "source": [
    "for t in tfs:\n",
    "    net_return[t] = df_benchmarks[t].pct_change(len(df_benchmarks[t])-1)\n",
    "    ann_factor[t] = 365.000/(len(df_benchmarks[t]))\n",
    "    total_return[t] = net_return[t].tail(1)*100\n",
    "    total_return_excel[t] = net_return[t].tail(1)\n",
    "    percent_sd[t] = results[t].iloc[2,:]*100\n",
    "    results[t] = results[t].append(percent_sd[t])\n",
    "    results[t].index = results[t].index[:-1].append(pd.Index(['daily volatility']))\n",
    "    #print total_return_excel[t]\n",
    "    results[t] = results[t].append(total_return_excel[t])\n",
    "    results[t].index = results[t].index[:-1].append(pd.Index(['return']))\n",
    "    #print results[t]\n",
    "    #print average_return[t]/(percent_sd[t]*0.01).transpose()\n",
    "    Sharpe_values = (average_return[t].loc['mean']/(percent_sd[t]*0.01))*annualize\n",
    "    Sharpe_values = Sharpe_values.rename('sharpe_values')\n",
    "    results[t] = results[t].append(Sharpe_values)\n",
    "    results[t].index = results[t].index[:-1].append(pd.Index(['Sharpe']))\n",
    "    results[t] = results[t].append(sortino[t])\n",
    "    results[t].index = results[t].index[:-1].append(pd.Index(['Sortino']))\n",
    "#print (results[t])"
   ]
  },
  {
   "cell_type": "code",
   "execution_count": null,
   "metadata": {},
   "outputs": [],
   "source": [
    "returns_benchmarks['short'].tail()"
   ]
  },
  {
   "cell_type": "code",
   "execution_count": null,
   "metadata": {
    "collapsed": true
   },
   "outputs": [],
   "source": [
    "for t in tfs:\n",
    "    summary[t] = results[t].iloc[8:]\n",
    "    corr[t] = returns_benchmarks[t].corr(method='pearson')\n",
    "    betas[t] = returns_benchmarks[t].cov()\n",
    "    beta_results[t] = pd.DataFrame()\n",
    "    beta_results[t] = betas[t].iloc[0,:] / betas[t].iloc[3,0]\n",
    "    corr[t].to_csv('C:/Users\\stoin\\Desktop\\Mike\\Jupyter\\Output\\\\bletch_output_corr'+t+'.csv')\n",
    "    summary[t].to_csv('C:/Users\\stoin\\Desktop\\Mike\\Jupyter\\Output\\\\bletch_output_results'+t+'.csv')\n",
    "beta_all = pd.DataFrame()\n",
    "beta_all['MTD'] = beta_results['short']\n",
    "beta_all['QTD'] = beta_results['med']\n",
    "beta_all['YTD'] = beta_results['long']"
   ]
  },
  {
   "cell_type": "code",
   "execution_count": null,
   "metadata": {},
   "outputs": [],
   "source": [
    "returns_benchmarks['short'].tail()"
   ]
  },
  {
   "cell_type": "code",
   "execution_count": null,
   "metadata": {},
   "outputs": [],
   "source": [
    "summary['short']"
   ]
  },
  {
   "cell_type": "code",
   "execution_count": null,
   "metadata": {},
   "outputs": [],
   "source": [
    "summary['med']"
   ]
  },
  {
   "cell_type": "code",
   "execution_count": null,
   "metadata": {},
   "outputs": [],
   "source": [
    "summary['long']"
   ]
  },
  {
   "cell_type": "code",
   "execution_count": null,
   "metadata": {},
   "outputs": [],
   "source": [
    "corr['short']"
   ]
  },
  {
   "cell_type": "code",
   "execution_count": null,
   "metadata": {},
   "outputs": [],
   "source": [
    "corr['med']"
   ]
  },
  {
   "cell_type": "code",
   "execution_count": null,
   "metadata": {},
   "outputs": [],
   "source": [
    "corr['long']"
   ]
  },
  {
   "cell_type": "code",
   "execution_count": null,
   "metadata": {},
   "outputs": [],
   "source": [
    "beta_all"
   ]
  },
  {
   "cell_type": "code",
   "execution_count": null,
   "metadata": {},
   "outputs": [],
   "source": [
    "coins_high_low = data_coins_week_returns.describe()\n",
    "coins_high_low"
   ]
  },
  {
   "cell_type": "code",
   "execution_count": null,
   "metadata": {},
   "outputs": [],
   "source": [
    "returns_benchmarks['short'].describe()"
   ]
  },
  {
   "cell_type": "code",
   "execution_count": null,
   "metadata": {},
   "outputs": [],
   "source": [
    "data_coins_week.tail(n=1)"
   ]
  }
 ],
 "metadata": {
  "kernelspec": {
   "display_name": "Python 3",
   "language": "python",
   "name": "python3"
  },
  "language_info": {
   "codemirror_mode": {
    "name": "ipython",
    "version": 3
   },
   "file_extension": ".py",
   "mimetype": "text/x-python",
   "name": "python",
   "nbconvert_exporter": "python",
   "pygments_lexer": "ipython3",
   "version": "3.5.3"
  }
 },
 "nbformat": 4,
 "nbformat_minor": 2
}
